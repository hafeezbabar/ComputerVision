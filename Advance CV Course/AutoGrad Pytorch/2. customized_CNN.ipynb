{
  "nbformat": 4,
  "nbformat_minor": 0,
  "metadata": {
    "colab": {
      "provenance": []
    },
    "kernelspec": {
      "name": "python3",
      "display_name": "Python 3"
    },
    "language_info": {
      "name": "python"
    }
  },
  "cells": [
    {
      "cell_type": "markdown",
      "source": [
        "### Connecting to google drive"
      ],
      "metadata": {
        "id": "_DoL3ndaY2oj"
      }
    },
    {
      "cell_type": "code",
      "source": [
        "from google.colab import drive\n",
        "drive.mount('/content/drive')"
      ],
      "metadata": {
        "colab": {
          "base_uri": "https://localhost:8080/"
        },
        "id": "TD3YrM5IY0QJ",
        "outputId": "d3e3ff89-f6a7-440a-a4fb-bac5d9720978"
      },
      "execution_count": 2,
      "outputs": [
        {
          "output_type": "stream",
          "name": "stdout",
          "text": [
            "Drive already mounted at /content/drive; to attempt to forcibly remount, call drive.mount(\"/content/drive\", force_remount=True).\n"
          ]
        }
      ]
    },
    {
      "cell_type": "code",
      "source": [
        "import torch\n",
        "import torch.nn as nn\n",
        "import torchvision\n",
        "import torchvision.transforms as transforms\n",
        "import matplotlib.pyplot as plt"
      ],
      "metadata": {
        "id": "Q_6mWYzOY1nh"
      },
      "execution_count": 3,
      "outputs": []
    },
    {
      "cell_type": "code",
      "source": [
        "# Device Configuation\n",
        "device = torch.device(\"cude:0\" if torch.cuda.is_available() else \"cpu\")"
      ],
      "metadata": {
        "id": "nlb3juSvY66z"
      },
      "execution_count": 4,
      "outputs": []
    },
    {
      "cell_type": "code",
      "source": [
        "torchvision.datasets.CIFAR10"
      ],
      "metadata": {
        "colab": {
          "base_uri": "https://localhost:8080/"
        },
        "id": "4yPstWRHZT-d",
        "outputId": "917251d9-dc05-4546-b3b4-5c8af17dd430"
      },
      "execution_count": 9,
      "outputs": [
        {
          "output_type": "execute_result",
          "data": {
            "text/plain": [
              "torchvision.datasets.cifar.CIFAR10"
            ]
          },
          "metadata": {},
          "execution_count": 9
        }
      ]
    },
    {
      "cell_type": "code",
      "source": [
        "# Hyper parameters\n",
        "cifar10_classes = ('plane', 'car', 'bird', 'cat', 'deer', 'dog', 'frog', 'horse', 'ship', 'truck')\n",
        "\n",
        "epochs = 5\n",
        "classes = 10\n",
        "batch_size = 100\n",
        "lr = 0.001\n",
        "\n",
        "#CIFAT-10 Dataset\n",
        "train_dataset = torchvision.datasets.CIFAR10(root = 'ddrive/MyDrive/data/cifar-10', train=True,\n",
        "                                             download = True, transform = transforms.ToTensor())\n",
        "\n",
        "\n",
        "test_dataset = torchvision.datasets.CIFAR10(root = 'ddrive/MyDrive/data/cifar-10', train=False,\n",
        "                                             download = True, transform = transforms.ToTensor())\n",
        "\n",
        "\n",
        "#Data Loader\n",
        "train_loader = torch.utils.data.DataLoader(train_dataset, batch_size = batch_size,\n",
        "                                          shuffle = True, num_workers = 0)\n",
        "\n",
        "test_loader = torch.utils.data.DataLoader(dataset = test_dataset, batch_size = batch_size,\n",
        "                                          shuffle = False, num_workers = 0)\n"
      ],
      "metadata": {
        "colab": {
          "base_uri": "https://localhost:8080/"
        },
        "id": "ajaSHzBvZZzB",
        "outputId": "2f6f8d77-9a69-4854-f149-8fa716077c05"
      },
      "execution_count": 11,
      "outputs": [
        {
          "output_type": "stream",
          "name": "stdout",
          "text": [
            "Files already downloaded and verified\n",
            "Files already downloaded and verified\n"
          ]
        }
      ]
    },
    {
      "cell_type": "code",
      "source": [
        "import numpy as np\n",
        "image , label = train_dataset[batch_size]\n",
        "print(image.size(), image.shape)\n",
        "print(label)\n",
        "plt.imshow(np.transpose(image, (1,2,0)))\n",
        "plt.title(cifar10_classes[label])"
      ],
      "metadata": {
        "colab": {
          "base_uri": "https://localhost:8080/",
          "height": 505
        },
        "id": "_oqvekSlbTg_",
        "outputId": "6b8116d3-3860-4db5-f3a7-ac6f1b97309e"
      },
      "execution_count": 13,
      "outputs": [
        {
          "output_type": "stream",
          "name": "stdout",
          "text": [
            "torch.Size([3, 32, 32]) torch.Size([3, 32, 32])\n",
            "8\n"
          ]
        },
        {
          "output_type": "execute_result",
          "data": {
            "text/plain": [
              "Text(0.5, 1.0, 'ship')"
            ]
          },
          "metadata": {},
          "execution_count": 13
        },
        {
          "output_type": "display_data",
          "data": {
            "text/plain": [
              "<Figure size 640x480 with 1 Axes>"
            ],
            "image/png": "[encoded data removed]"
          },
          "metadata": {}
        }
      ]
    },
    {
      "cell_type": "code",
      "source": [
        "## covolutional Neural Network (two convolutional Layers)\n",
        "class ConvNet(nn.Module):\n",
        "  def __init__(self, classes=10):\n",
        "    super(ConvNet, self).__init__()\n",
        "    self.layer1 = nn.Sequential(\n",
        "        nn.Conv2d(3, 16, kernel_size = 5, stride=1, padding=2),\n",
        "        nn.BatchNorm2d(16),\n",
        "        nn.ReLU(),\n",
        "        nn.MaxPool2d(kernel_size =2 , stride = 2)\n",
        "    )\n",
        "\n",
        "    self.layer2 = nn.Sequential(\n",
        "        nn.Conv2d(16,32, kernel_size = 5, stride = 1, padding = 2),\n",
        "        nn.BatchNorm2d(32),\n",
        "        nn.ReLU(),\n",
        "        nn.MaxPool2d(kernel_size = 2, stride = 2)\n",
        "    )\n",
        "\n",
        "    self.fc = nn.Linear(8*8*32, classes)\n",
        "\n",
        "  def forward(self, x):\n",
        "    out = self.layer1(x)\n",
        "    #print (out.shape)\n",
        "    out = self.layer2(out)\n",
        "    #print(out.shape)\n",
        "\n",
        "    out = out.reshape(out.size(0),-1)  # reshaping the layer bcz input of FC layer must me FC array\n",
        "    #print(out.shape)\n",
        "    out = self.fc(out)\n",
        "\n",
        "    return out\n"
      ],
      "metadata": {
        "id": "sTBt9CJCeVY8"
      },
      "execution_count": 26,
      "outputs": []
    },
    {
      "cell_type": "code",
      "source": [
        "model = ConvNet(classes).to(device)  # passing the created model into availabel GPU or CPU"
      ],
      "metadata": {
        "id": "MhxHI2Tlf6qP"
      },
      "execution_count": 27,
      "outputs": []
    },
    {
      "cell_type": "code",
      "source": [
        "# loss and optimizer\n",
        "criterion = nn.CrossEntropyLoss()\n",
        "optimizer = torch.optim.Adam(model.parameters() , lr = lr)\n"
      ],
      "metadata": {
        "id": "sHICC7mAgBUV"
      },
      "execution_count": 28,
      "outputs": []
    },
    {
      "cell_type": "markdown",
      "source": [
        "### Training\n"
      ],
      "metadata": {
        "id": "HA_GD_kEgXCP"
      }
    },
    {
      "cell_type": "code",
      "source": [
        "# Train the model\n",
        "total_step = len(train_loader)\n",
        "for epoch in range(epochs):\n",
        "  for i, (images, labels) in enumerate(train_loader):\n",
        "    images = images.to(device)\n",
        "    labels = labels.to(device)\n",
        "\n",
        "    #forward pass\n",
        "    output = model(images)\n",
        "    loss = criterion(output, labels)\n",
        "\n",
        "    #Backward and optimize\n",
        "    optimizer.zero_grad()\n",
        "    loss.backward()\n",
        "    optimizer.step()\n",
        "\n",
        "\n",
        "    if(i+1) % 100 == 0:\n",
        "      print('Epoch [ {} / {}], step [{} / {}] , loss : {:.4f}'.format(epoch+1, epochs, i+1, total_step, loss.item()))"
      ],
      "metadata": {
        "colab": {
          "base_uri": "https://localhost:8080/"
        },
        "id": "92Wjz9GPgZPU",
        "outputId": "f17ab0c1-00e9-4f3f-bfca-9d95fa9c812b"
      },
      "execution_count": 29,
      "outputs": [
        {
          "output_type": "stream",
          "name": "stdout",
          "text": [
            "Epoch [ 1 / 5], step [100 / 500] , loss : 1.5346\n",
            "Epoch [ 1 / 5], step [200 / 500] , loss : 1.2247\n",
            "Epoch [ 1 / 5], step [300 / 500] , loss : 1.2996\n",
            "Epoch [ 1 / 5], step [400 / 500] , loss : 1.3249\n",
            "Epoch [ 1 / 5], step [500 / 500] , loss : 1.0220\n",
            "Epoch [ 2 / 5], step [100 / 500] , loss : 0.9525\n",
            "Epoch [ 2 / 5], step [200 / 500] , loss : 1.0666\n",
            "Epoch [ 2 / 5], step [300 / 500] , loss : 0.8630\n",
            "Epoch [ 2 / 5], step [400 / 500] , loss : 0.9258\n",
            "Epoch [ 2 / 5], step [500 / 500] , loss : 0.8839\n",
            "Epoch [ 3 / 5], step [100 / 500] , loss : 1.0348\n",
            "Epoch [ 3 / 5], step [200 / 500] , loss : 1.0066\n",
            "Epoch [ 3 / 5], step [300 / 500] , loss : 1.0619\n",
            "Epoch [ 3 / 5], step [400 / 500] , loss : 0.9975\n",
            "Epoch [ 3 / 5], step [500 / 500] , loss : 0.7252\n",
            "Epoch [ 4 / 5], step [100 / 500] , loss : 0.8455\n",
            "Epoch [ 4 / 5], step [200 / 500] , loss : 0.8924\n",
            "Epoch [ 4 / 5], step [300 / 500] , loss : 0.9764\n",
            "Epoch [ 4 / 5], step [400 / 500] , loss : 1.0125\n",
            "Epoch [ 4 / 5], step [500 / 500] , loss : 0.8784\n",
            "Epoch [ 5 / 5], step [100 / 500] , loss : 0.7827\n",
            "Epoch [ 5 / 5], step [200 / 500] , loss : 0.8445\n",
            "Epoch [ 5 / 5], step [300 / 500] , loss : 0.7784\n",
            "Epoch [ 5 / 5], step [400 / 500] , loss : 0.7280\n",
            "Epoch [ 5 / 5], step [500 / 500] , loss : 0.8368\n"
          ]
        }
      ]
    },
    {
      "cell_type": "markdown",
      "source": [
        "### Test the Model"
      ],
      "metadata": {
        "id": "CEXw5BNtoW6p"
      }
    },
    {
      "cell_type": "code",
      "source": [
        "# Test the model\n",
        "model.eval()\n",
        "with torch.no_grad():\n",
        "  correct = 0\n",
        "  total = 0\n",
        "  for images, labels in test_loader:\n",
        "    images = images.to(device)\n",
        "    labels = images.to(device)\n",
        "    output = model(images)\n",
        "    _ , pred = torch.max(output.data, 1)\n",
        "    total += labels.size(0)\n",
        "    correct += (pred == labels).sum().item()\n",
        "\n",
        "  print('Test Accuracy of the model on the 10K test images: {} %'.format(100 * correct ))"
      ],
      "metadata": {
        "id": "yUnkOA1CoYGX"
      },
      "execution_count": null,
      "outputs": []
    },
    {
      "cell_type": "code",
      "source": [],
      "metadata": {
        "id": "NIBKU4Iwo_tV"
      },
      "execution_count": null,
      "outputs": []
    }
  ]
}