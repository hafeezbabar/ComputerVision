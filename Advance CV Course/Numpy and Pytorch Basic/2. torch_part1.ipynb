{
 "cells": [
  {
   "cell_type": "markdown",
   "id": "c439e957",
   "metadata": {},
   "source": [
    "### Import torch library"
   ]
  },
  {
   "cell_type": "code",
   "execution_count": 1,
   "id": "a9e6228e",
   "metadata": {},
   "outputs": [],
   "source": [
    "import torch"
   ]
  },
  {
   "cell_type": "code",
   "execution_count": 3,
   "id": "e4d0de39",
   "metadata": {},
   "outputs": [
    {
     "data": {
      "text/plain": [
       "device(type='cpu')"
      ]
     },
     "execution_count": 3,
     "metadata": {},
     "output_type": "execute_result"
    }
   ],
   "source": [
    "device  = torch.device(\"cude:0\" if torch.cuda.is_available() else \"cpu\")  # Check the availability of GPU \n",
    "device"
   ]
  },
  {
   "cell_type": "markdown",
   "id": "dd4d46b5",
   "metadata": {},
   "source": [
    "### Torch Vector\n",
    " - Return a tensor filled with ranom numbers from a uniform distribution on the interval (0,1)."
   ]
  },
  {
   "cell_type": "code",
   "execution_count": 6,
   "id": "5d20d415",
   "metadata": {},
   "outputs": [
    {
     "name": "stdout",
     "output_type": "stream",
     "text": [
      "tensor([[0.0988, 0.7353, 0.7299],\n",
      "        [0.1819, 0.2584, 0.0037]]) torch.Size([2, 3]) <class 'torch.Tensor'>\n"
     ]
    }
   ],
   "source": [
    "tensor1 = torch.rand(2,3)  # create a tensor by 2 rows and 3 columns using randn function.\n",
    "print(tensor1, tensor1.shape, type(tensor1))  "
   ]
  },
  {
   "cell_type": "code",
   "execution_count": 8,
   "id": "c5c5ce42",
   "metadata": {},
   "outputs": [
    {
     "data": {
      "text/plain": [
       "tensor([[0.0988, 0.7353, 0.7299],\n",
       "        [0.1819, 0.2584, 0.0037]])"
      ]
     },
     "execution_count": 8,
     "metadata": {},
     "output_type": "execute_result"
    }
   ],
   "source": [
    "tensor1.to(device)  # set the tensor1 to available CPU or GPU"
   ]
  },
  {
   "cell_type": "markdown",
   "id": "337f8fd1",
   "metadata": {},
   "source": [
    "### Matrix Multiplication"
   ]
  },
  {
   "cell_type": "code",
   "execution_count": 11,
   "id": "906424fe",
   "metadata": {},
   "outputs": [
    {
     "name": "stdout",
     "output_type": "stream",
     "text": [
      "[[3 2 3]\n",
      " [1 3 2]]\n",
      "[[3 2 1]\n",
      " [1 2 1]]\n"
     ]
    }
   ],
   "source": [
    "import numpy as np # Imported NumPy Library\n",
    "arr1 = np.random.randint(low = 1, high = 4, size= (2,3))\n",
    "arr2 = np.random.randint(low = 1, high = 4, size= (2,3))\n",
    "print(arr1)\n",
    "print(arr2)"
   ]
  },
  {
   "cell_type": "markdown",
   "id": "d6f62e86",
   "metadata": {},
   "source": [
    "### Element Wise multiplicaition"
   ]
  },
  {
   "cell_type": "code",
   "execution_count": 12,
   "id": "f882738b",
   "metadata": {},
   "outputs": [
    {
     "name": "stdout",
     "output_type": "stream",
     "text": [
      "tensor([[6, 2, 4],\n",
      "        [2, 1, 4]])\n",
      "tensor([[6, 3, 1],\n",
      "        [7, 5, 7]])\n"
     ]
    },
    {
     "data": {
      "text/plain": [
       "tensor([[36,  6,  4],\n",
       "        [14,  5, 28]])"
      ]
     },
     "execution_count": 12,
     "metadata": {},
     "output_type": "execute_result"
    }
   ],
   "source": [
    "arr1 = torch.randint(low = 1, high = 10, size = (2,3))\n",
    "arr2 = torch.randint(low = 1, high = 10, size = (2,3))\n",
    "print(arr1)\n",
    "print(arr2)\n",
    "torch.mul(arr1, arr2)"
   ]
  },
  {
   "cell_type": "markdown",
   "id": "8a8328f6",
   "metadata": {},
   "source": [
    "### Dot Product"
   ]
  },
  {
   "cell_type": "code",
   "execution_count": 14,
   "id": "95b0536f",
   "metadata": {},
   "outputs": [
    {
     "name": "stdout",
     "output_type": "stream",
     "text": [
      "tensor([[1, 2, 2]])\n",
      "tensor([[1, 2, 1]])\n"
     ]
    },
    {
     "ename": "RuntimeError",
     "evalue": "1D tensors expected, but got 2D and 2D tensors",
     "output_type": "error",
     "traceback": [
      "\u001b[1;31m---------------------------------------------------------------------------\u001b[0m",
      "\u001b[1;31mRuntimeError\u001b[0m                              Traceback (most recent call last)",
      "Cell \u001b[1;32mIn[14], line 5\u001b[0m\n\u001b[0;32m      3\u001b[0m \u001b[38;5;28mprint\u001b[39m(arr1)\n\u001b[0;32m      4\u001b[0m \u001b[38;5;28mprint\u001b[39m(arr2)\n\u001b[1;32m----> 5\u001b[0m \u001b[43mtorch\u001b[49m\u001b[38;5;241;43m.\u001b[39;49m\u001b[43mdot\u001b[49m\u001b[43m(\u001b[49m\u001b[43marr1\u001b[49m\u001b[43m,\u001b[49m\u001b[43m \u001b[49m\u001b[43marr2\u001b[49m\u001b[43m)\u001b[49m\n",
      "\u001b[1;31mRuntimeError\u001b[0m: 1D tensors expected, but got 2D and 2D tensors"
     ]
    }
   ],
   "source": [
    "arr1 = torch.randint(low = 1, high = 3, size = (1,3))\n",
    "arr2 = torch.randint(low = 1, high = 3, size = (1,3))\n",
    "print(arr1)\n",
    "print(arr2)\n",
    "torch.dot(arr1, arr2)"
   ]
  },
  {
   "cell_type": "code",
   "execution_count": 18,
   "id": "955ffaf7",
   "metadata": {},
   "outputs": [
    {
     "name": "stdout",
     "output_type": "stream",
     "text": [
      "tensor([1, 2, 2])\n",
      "tensor([1, 2, 2])\n"
     ]
    },
    {
     "data": {
      "text/plain": [
       "tensor(7)"
      ]
     },
     "execution_count": 18,
     "metadata": {},
     "output_type": "execute_result"
    }
   ],
   "source": [
    "print(torch.squeeze(arr1, dim = 0))\n",
    "print(torch.squeeze(arr1, dim = 0))\n",
    "torch.dot(torch.squeeze(arr1, dim = 0), torch.squeeze(arr2, dim = 0))"
   ]
  },
  {
   "cell_type": "markdown",
   "id": "baeff212",
   "metadata": {},
   "source": [
    "### Normalize tensor"
   ]
  },
  {
   "cell_type": "code",
   "execution_count": 19,
   "id": "bb3c9f97",
   "metadata": {},
   "outputs": [
    {
     "data": {
      "text/plain": [
       "tensor([[0.4650, 0.8531, 0.2366]])"
      ]
     },
     "execution_count": 19,
     "metadata": {},
     "output_type": "execute_result"
    }
   ],
   "source": [
    "import torch.nn.functional as F\n",
    "arr1 = torch.rand((1, 3))\n",
    "arr1 = F.normalize(arr1)\n",
    "arr1"
   ]
  },
  {
   "cell_type": "code",
   "execution_count": 20,
   "id": "94195247",
   "metadata": {},
   "outputs": [
    {
     "data": {
      "text/plain": [
       "tensor(1.0000)"
      ]
     },
     "execution_count": 20,
     "metadata": {},
     "output_type": "execute_result"
    }
   ],
   "source": [
    "torch.sqrt(torch.sum(torch.pow(arr1,2)))"
   ]
  },
  {
   "cell_type": "markdown",
   "id": "7554e68c",
   "metadata": {},
   "source": [
    "### Cosine Similarity"
   ]
  },
  {
   "cell_type": "code",
   "execution_count": 22,
   "id": "2cf85ef1",
   "metadata": {},
   "outputs": [
    {
     "name": "stdout",
     "output_type": "stream",
     "text": [
      "tensor([-0.0351,  0.0107,  0.0621, -0.2307,  0.0858,  0.0230,  0.0492, -0.0092,\n",
      "        -0.0213, -0.0520])\n"
     ]
    }
   ],
   "source": [
    "value1 = torch.randn(10,100)\n",
    "value2 = torch.rand(10,100)\n",
    "\n",
    "cos_sim = torch.nn.CosineSimilarity(dim =1, eps = 1e-6)\n",
    "result = cos_sim(value1, value2)\n",
    "print(result)"
   ]
  },
  {
   "cell_type": "code",
   "execution_count": 23,
   "id": "e0ad07e0",
   "metadata": {},
   "outputs": [
    {
     "name": "stdout",
     "output_type": "stream",
     "text": [
      "tensor([0.0428]) tensor(0.0428)\n"
     ]
    }
   ],
   "source": [
    "arr1 = torch.randn(1,128)\n",
    "arr2 = torch.randn(1,128)\n",
    "arr1_norm = F.normalize(arr1)\n",
    "arr2_norm = F.normalize(arr2)\n",
    "print(cos_sim(arr1, arr2),torch.dot(torch.squeeze(arr1_norm, dim = 0), torch.squeeze(arr2_norm, dim=0)))"
   ]
  },
  {
   "cell_type": "code",
   "execution_count": null,
   "id": "a8f7db4a",
   "metadata": {},
   "outputs": [],
   "source": []
  }
 ],
 "metadata": {
  "kernelspec": {
   "display_name": "Python 3 (ipykernel)",
   "language": "python",
   "name": "python3"
  },
  "language_info": {
   "codemirror_mode": {
    "name": "ipython",
    "version": 3
   },
   "file_extension": ".py",
   "mimetype": "text/x-python",
   "name": "python",
   "nbconvert_exporter": "python",
   "pygments_lexer": "ipython3",
   "version": "3.9.16"
  }
 },
 "nbformat": 4,
 "nbformat_minor": 5
}
