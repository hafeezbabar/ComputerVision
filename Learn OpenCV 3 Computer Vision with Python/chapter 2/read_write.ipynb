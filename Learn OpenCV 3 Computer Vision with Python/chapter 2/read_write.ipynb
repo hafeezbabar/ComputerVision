{
 "cells": [
  {
   "cell_type": "markdown",
   "metadata": {},
   "source": [
    "### Importing the basic libraries"
   ]
  },
  {
   "cell_type": "code",
   "execution_count": 2,
   "metadata": {},
   "outputs": [],
   "source": [
    "# Importing the libraries CV2 \n",
    "import cv2"
   ]
  },
  {
   "cell_type": "code",
   "execution_count": 3,
   "metadata": {},
   "outputs": [],
   "source": [
    "# import the library for scientif matrix calculation\n",
    "import numpy"
   ]
  },
  {
   "cell_type": "markdown",
   "metadata": {},
   "source": [
    "### Reading and Writing Images\n",
    " - OpenCV provides the imread() and imwrite() functions that support various file\n",
    "formats for still images.\n",
    " \n",
    " - No matter the format, each pixel has a value, but the difference is in how the pixel is\n",
    "represented. For example, we can create a black square image from scratch by simply\n",
    "creating a 2D NumPy array:"
   ]
  },
  {
   "cell_type": "code",
   "execution_count": 7,
   "metadata": {},
   "outputs": [
    {
     "data": {
      "text/plain": [
       "array([[0, 0, 0],\n",
       "       [0, 0, 0],\n",
       "       [0, 0, 0]], dtype=uint8)"
      ]
     },
     "execution_count": 7,
     "metadata": {},
     "output_type": "execute_result"
    }
   ],
   "source": [
    "img = numpy.zeros((3,3), dtype = numpy.uint8) \n",
    "img"
   ]
  },
  {
   "cell_type": "markdown",
   "metadata": {},
   "source": [
    "Each pixel is represented by a single 8-bit integer, which means that the values for\n",
    "each pixel are in the 0-255 range."
   ]
  },
  {
   "cell_type": "markdown",
   "metadata": {},
   "source": [
    "Let's now convert this image into Blue-green-red (BGR) using cv2.cvtColor:"
   ]
  },
  {
   "cell_type": "code",
   "execution_count": 8,
   "metadata": {},
   "outputs": [
    {
     "data": {
      "text/plain": [
       "array([[[0, 0, 0],\n",
       "        [0, 0, 0],\n",
       "        [0, 0, 0]],\n",
       "\n",
       "       [[0, 0, 0],\n",
       "        [0, 0, 0],\n",
       "        [0, 0, 0]],\n",
       "\n",
       "       [[0, 0, 0],\n",
       "        [0, 0, 0],\n",
       "        [0, 0, 0]]], dtype=uint8)"
      ]
     },
     "execution_count": 8,
     "metadata": {},
     "output_type": "execute_result"
    }
   ],
   "source": [
    "img = cv2.cvtColor(img, cv2.COLOR_GRAY2BGR)\n",
    "img"
   ]
  },
  {
   "cell_type": "markdown",
   "metadata": {},
   "source": [
    "each pixel is now represented by a three-element array, with each\n",
    "integer representing the B, G, and R channels, respectively."
   ]
  },
  {
   "cell_type": "markdown",
   "metadata": {},
   "source": [
    "You can check the structure of an image by inspecting the shape property, which\n",
    "returns rows, columns, and the number of channels (if there is more than one)."
   ]
  },
  {
   "cell_type": "code",
   "execution_count": 10,
   "metadata": {},
   "outputs": [
    {
     "data": {
      "text/plain": [
       "array([[0, 0, 0],\n",
       "       [0, 0, 0],\n",
       "       [0, 0, 0]], dtype=uint8)"
      ]
     },
     "execution_count": 10,
     "metadata": {},
     "output_type": "execute_result"
    }
   ],
   "source": [
    "img = numpy.zeros((3,3), dtype=numpy.uint8)\n",
    "img"
   ]
  },
  {
   "cell_type": "code",
   "execution_count": 11,
   "metadata": {},
   "outputs": [
    {
     "data": {
      "text/plain": [
       "(3, 3)"
      ]
     },
     "execution_count": 11,
     "metadata": {},
     "output_type": "execute_result"
    }
   ],
   "source": [
    "img.shape"
   ]
  },
  {
   "cell_type": "markdown",
   "metadata": {},
   "source": [
    "Images can be loaded from one file format and saved to another. For example, let's\n",
    "convert an image from PNG to JPEG"
   ]
  },
  {
   "cell_type": "code",
   "execution_count": 13,
   "metadata": {},
   "outputs": [
    {
     "data": {
      "text/plain": [
       "array([[[106, 171, 150],\n",
       "        [106, 171, 150],\n",
       "        [107, 172, 151],\n",
       "        ...,\n",
       "        [113, 176, 156],\n",
       "        [113, 177, 155],\n",
       "        [113, 177, 155]],\n",
       "\n",
       "       [[106, 171, 150],\n",
       "        [106, 171, 150],\n",
       "        [107, 172, 151],\n",
       "        ...,\n",
       "        [113, 176, 156],\n",
       "        [113, 177, 155],\n",
       "        [113, 177, 155]],\n",
       "\n",
       "       [[106, 171, 150],\n",
       "        [106, 171, 150],\n",
       "        [107, 172, 151],\n",
       "        ...,\n",
       "        [113, 176, 156],\n",
       "        [113, 177, 155],\n",
       "        [113, 177, 155]],\n",
       "\n",
       "       ...,\n",
       "\n",
       "       [[ 33, 120,  84],\n",
       "        [ 69, 153, 118],\n",
       "        [ 67, 144, 107],\n",
       "        ...,\n",
       "        [ 82, 146, 117],\n",
       "        [ 79, 146, 117],\n",
       "        [ 75, 145, 114]],\n",
       "\n",
       "       [[ 35, 122,  86],\n",
       "        [ 71, 153, 118],\n",
       "        [ 85, 159, 123],\n",
       "        ...,\n",
       "        [ 82, 149, 118],\n",
       "        [ 79, 149, 118],\n",
       "        [ 74, 147, 115]],\n",
       "\n",
       "       [[ 26, 113,  77],\n",
       "        [ 35, 117,  82],\n",
       "        [ 51, 128,  91],\n",
       "        ...,\n",
       "        [ 85, 152, 121],\n",
       "        [ 82, 152, 121],\n",
       "        [ 76, 149, 117]]], dtype=uint8)"
      ]
     },
     "execution_count": 13,
     "metadata": {},
     "output_type": "execute_result"
    }
   ],
   "source": [
    "image = cv2.imread('dog.jpg')\n",
    "image"
   ]
  },
  {
   "cell_type": "code",
   "execution_count": 15,
   "metadata": {},
   "outputs": [
    {
     "data": {
      "text/plain": [
       "True"
      ]
     },
     "execution_count": 15,
     "metadata": {},
     "output_type": "execute_result"
    }
   ],
   "source": [
    "cv2.imwrite('Dog_Image_Format_Change.jpg', img)"
   ]
  },
  {
   "cell_type": "markdown",
   "metadata": {},
   "source": [
    "By default, imread() returns an image in the BGR color format even if the file uses a\n",
    "grayscale format. BGR represents the same color space as red-green-blue (RGB), but\n",
    "the byte order is reversed."
   ]
  },
  {
   "cell_type": "markdown",
   "metadata": {},
   "source": [
    "Optionally, we may specify the mode of imread() to be one of the following\n",
    "enumerators:"
   ]
  },
  {
   "cell_type": "code",
   "execution_count": null,
   "metadata": {},
   "outputs": [],
   "source": []
  }
 ],
 "metadata": {
  "kernelspec": {
   "display_name": "base",
   "language": "python",
   "name": "python3"
  },
  "language_info": {
   "codemirror_mode": {
    "name": "ipython",
    "version": 3
   },
   "file_extension": ".py",
   "mimetype": "text/x-python",
   "name": "python",
   "nbconvert_exporter": "python",
   "pygments_lexer": "ipython3",
   "version": "3.9.16"
  },
  "orig_nbformat": 4
 },
 "nbformat": 4,
 "nbformat_minor": 2
}
