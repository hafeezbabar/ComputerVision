{
 "cells": [
  {
   "cell_type": "markdown",
   "id": "metallic-volleyball",
   "metadata": {
    "id": "metallic-volleyball"
   },
   "source": [
    "# Cluster Search"
   ]
  },
  {
   "cell_type": "markdown",
   "id": "a529fab3",
   "metadata": {},
   "source": [
    "### Connect to Goog`le Drive"
   ]
  },
  {
   "cell_type": "code",
   "execution_count": 1,
   "id": "KE-2LR-GzmF-",
   "metadata": {
    "colab": {
     "base_uri": "https://localhost:8080/"
    },
    "executionInfo": {
     "elapsed": 22304,
     "status": "ok",
     "timestamp": 1622378390457,
     "user": {
      "displayName": "fish ai",
      "photoUrl": "",
      "userId": "00695505613264305478"
     },
     "user_tz": -330
    },
    "id": "KE-2LR-GzmF-",
    "outputId": "b010f7e5-9076-4f66-c726-79dece300bfe"
   },
   "outputs": [
    {
     "name": "stdout",
     "output_type": "stream",
     "text": [
      "Mounted at /content/gdrive\n"
     ]
    }
   ],
   "source": [
    "from google.colab import drive\n",
    "drive.mount('/content/gdrive')"
   ]
  },
  {
   "cell_type": "markdown",
   "id": "adf6fc5c",
   "metadata": {},
   "source": [
    "### import the libraries"
   ]
  },
  {
   "cell_type": "code",
   "execution_count": 2,
   "id": "offshore-garlic",
   "metadata": {
    "executionInfo": {
     "elapsed": 4405,
     "status": "ok",
     "timestamp": 1622378396431,
     "user": {
      "displayName": "fish ai",
      "photoUrl": "",
      "userId": "00695505613264305478"
     },
     "user_tz": -330
    },
    "id": "offshore-garlic"
   },
   "outputs": [],
   "source": [
    "import torchvision\n",
    "import torch.nn as nn\n",
    "import torch\n",
    "import torch.nn.functional as F\n",
    "import torchvision.transforms as transforms\n",
    "import matplotlib.pyplot as plt\n",
    "import pandas as pd\n",
    "import numpy as np\n",
    "import random\n",
    "from scipy.spatial.distance import cdist"
   ]
  },
  {
   "cell_type": "markdown",
   "id": "55fac1cc",
   "metadata": {},
   "source": [
    "### pre-trained ResNet-50 Model"
   ]
  },
  {
   "cell_type": "code",
   "execution_count": 3,
   "id": "radio-heater",
   "metadata": {
    "colab": {
     "base_uri": "https://localhost:8080/",
     "height": 120,
     "referenced_widgets": [
      "90a23a666c014849bec17743d6bbd941",
      "4f87cf26f4424d8a810b20885eeb897a",
      "7d6540861057461cae4edde135d6440a",
      "69bb1293996a4b20ba72820ccc728be7",
      "aa73a2505f2845718f3cafcb2331faa7",
      "42ad6953713b49c6a0f284cc0d69a498",
      "94a181d20e974b62babe6b8162b63052",
      "8c5e684729dc4e8c9f1b827b0fd777fd"
     ]
    },
    "executionInfo": {
     "elapsed": 19449,
     "status": "ok",
     "timestamp": 1622378415877,
     "user": {
      "displayName": "fish ai",
      "photoUrl": "",
      "userId": "00695505613264305478"
     },
     "user_tz": -330
    },
    "id": "radio-heater",
    "outputId": "fbd9f656-2e02-4c7f-b73b-afa0756fd9c2"
   },
   "outputs": [
    {
     "name": "stderr",
     "output_type": "stream",
     "text": [
      "Downloading: \"https://download.pytorch.org/models/resnet50-19c8e357.pth\" to /root/.cache/torch/hub/checkpoints/resnet50-19c8e357.pth\n"
     ]
    },
    {
     "data": {
      "application/vnd.jupyter.widget-view+json": {
       "model_id": "90a23a666c014849bec17743d6bbd941",
       "version_major": 2,
       "version_minor": 0
      },
      "text/plain": [
       "HBox(children=(FloatProgress(value=0.0, max=102502400.0), HTML(value='')))"
      ]
     },
     "metadata": {
      "tags": []
     },
     "output_type": "display_data"
    },
    {
     "name": "stdout",
     "output_type": "stream",
     "text": [
      "\n",
      "Files already downloaded and verified\n"
     ]
    }
   ],
   "source": [
    "BACKBONE = 'resnet50'\n",
    "class ResNetFreezed(nn.Module):\n",
    "    def __init__(self, freeze_param=True):\n",
    "        super(ResNetFreezed, self).__init__()\n",
    "        if BACKBONE == \"resnet34\":\n",
    "            self.backbone = torchvision.models.resnet34(pretrained=True)\n",
    "        if BACKBONE == \"resnet50\":\n",
    "            self.backbone = torchvision.models.resnet50(pretrained=True)\n",
    "        if BACKBONE == \"resnet101\":\n",
    "            self.backbone = torchvision.models.resnet101(pretrained=True)\n",
    "        state_dict = self.backbone.state_dict()\n",
    "        self.backbone = nn.Sequential(*list(self.backbone.children())[:-1])\n",
    "        \n",
    "        if freeze_param:\n",
    "            for param in self.backbone.parameters():\n",
    "                param.requires_grad = False\n",
    "\n",
    "        \n",
    "    def forward(self, x):\n",
    "        x = self.backbone(x)\n",
    "        out = torch.flatten(x, 1)\n",
    "        return out\n",
    "\n",
    "device = torch.device(\"cuda\" if torch.cuda.is_available() else \"cpu\")\n",
    "model = ResNetFreezed().to(device)\n",
    "model.eval()\n",
    "\n",
    "cifar10_classes = ('plane', 'car', 'bird', 'cat',\n",
    "           'deer', 'dog', 'frog', 'horse', 'ship', 'truck')\n",
    "bs = 4\n",
    "transform = transforms.Compose(\n",
    "    [transforms.ToTensor(), \n",
    "    transforms.Normalize((0.5, 0.5, 0.5), (0.5, 0.5, 0.5))])\n",
    "\n",
    "def unnormalize(img):\n",
    "    img = (img * 0.5) + 0.5     # unnormalize\n",
    "    npimg = img.numpy()\n",
    "    npimg = np.transpose(npimg, (1, 2, 0))\n",
    "    return npimg\n",
    "\n",
    "train_dataset = torchvision.datasets.CIFAR10(root='gdrive/MyDrive/data/cifar-10', train=True,\n",
    "                                        download=True, transform=transform)\n",
    "trainloader = torch.utils.data.DataLoader(train_dataset, batch_size=bs,\n",
    "                                          shuffle=True, num_workers=0)"
   ]
  },
  {
   "cell_type": "markdown",
   "id": "kIG_HiU_3IxW",
   "metadata": {
    "id": "kIG_HiU_3IxW"
   },
   "source": [
    "### Load the Embedding\n",
    " - Load the embedding .pkl extension file."
   ]
  },
  {
   "cell_type": "code",
   "execution_count": 4,
   "id": "searching-anatomy",
   "metadata": {
    "executionInfo": {
     "elapsed": 6347,
     "status": "ok",
     "timestamp": 1622378422215,
     "user": {
      "displayName": "fish ai",
      "photoUrl": "",
      "userId": "00695505613264305478"
     },
     "user_tz": -330
    },
    "id": "searching-anatomy"
   },
   "outputs": [],
   "source": [
    "df_embeddings = pd.read_pickle('gdrive/MyDrive/data/cifar10_resnet50_imagenet_embeddings.pkl')"
   ]
  },
  {
   "cell_type": "code",
   "execution_count": 5,
   "id": "hybrid-belle",
   "metadata": {
    "executionInfo": {
     "elapsed": 674,
     "status": "ok",
     "timestamp": 1622378422871,
     "user": {
      "displayName": "fish ai",
      "photoUrl": "",
      "userId": "00695505613264305478"
     },
     "user_tz": -330
    },
    "id": "hybrid-belle"
   },
   "outputs": [],
   "source": [
    "from sklearn.cluster import KMeans\n",
    "import joblib\n",
    "import os"
   ]
  },
  {
   "cell_type": "code",
   "execution_count": 6,
   "id": "quarterly-found",
   "metadata": {
    "executionInfo": {
     "elapsed": 234429,
     "status": "ok",
     "timestamp": 1622378670152,
     "user": {
      "displayName": "fish ai",
      "photoUrl": "",
      "userId": "00695505613264305478"
     },
     "user_tz": -330
    },
    "id": "quarterly-found"
   },
   "outputs": [],
   "source": [
    "features = list(df_embeddings.vec)\n",
    "kmeans_model = KMeans(n_clusters=10, random_state=1).fit(features)\n"
   ]
  },
  {
   "cell_type": "code",
   "execution_count": 7,
   "id": "published-preparation",
   "metadata": {
    "colab": {
     "base_uri": "https://localhost:8080/"
    },
    "executionInfo": {
     "elapsed": 22,
     "status": "ok",
     "timestamp": 1622378670177,
     "user": {
      "displayName": "fish ai",
      "photoUrl": "",
      "userId": "00695505613264305478"
     },
     "user_tz": -330
    },
    "id": "published-preparation",
    "outputId": "49f0e2c1-9271-4bde-aba0-509d4ffbb2df"
   },
   "outputs": [
    {
     "data": {
      "text/plain": [
       "['gdrive/MyDrive/models/kmeans_v1.m']"
      ]
     },
     "execution_count": 7,
     "metadata": {
      "tags": []
     },
     "output_type": "execute_result"
    }
   ],
   "source": [
    "joblib.dump(kmeans_model, 'gdrive/MyDrive/models/kmeans_v1.m')\n",
    "#kmeans_model = joblib.load('gdrive/MyDrive/models/kmeans_v1.m')"
   ]
  },
  {
   "cell_type": "code",
   "execution_count": 20,
   "id": "located-psychiatry",
   "metadata": {
    "executionInfo": {
     "elapsed": 742,
     "status": "ok",
     "timestamp": 1622378966751,
     "user": {
      "displayName": "fish ai",
      "photoUrl": "",
      "userId": "00695505613264305478"
     },
     "user_tz": -330
    },
    "id": "located-psychiatry"
   },
   "outputs": [],
   "source": [
    "\n",
    "target_idx = random.randint(0,len(train_dataset))\n",
    "target = train_dataset[target_idx][0]\n",
    "target_label = cifar10_classes[train_dataset[target_idx][1]]\n",
    "target_tensor = torch.unsqueeze(train_dataset[target_idx][0], 0).to(device)"
   ]
  },
  {
   "cell_type": "code",
   "execution_count": 21,
   "id": "instant-float",
   "metadata": {
    "colab": {
     "base_uri": "https://localhost:8080/"
    },
    "executionInfo": {
     "elapsed": 7,
     "status": "ok",
     "timestamp": 1622378966753,
     "user": {
      "displayName": "fish ai",
      "photoUrl": "",
      "userId": "00695505613264305478"
     },
     "user_tz": -330
    },
    "id": "instant-float",
    "outputId": "73a2cd01-b6bf-4345-c90a-1cff4d06a62b"
   },
   "outputs": [
    {
     "data": {
      "text/plain": [
       "torch.Size([1, 2048])"
      ]
     },
     "execution_count": 21,
     "metadata": {
      "tags": []
     },
     "output_type": "execute_result"
    }
   ],
   "source": [
    "feat = model(target_tensor).detach().cpu()\n",
    "feat.shape"
   ]
  },
  {
   "cell_type": "code",
   "execution_count": 22,
   "id": "atlantic-illustration",
   "metadata": {
    "executionInfo": {
     "elapsed": 4,
     "status": "ok",
     "timestamp": 1622378967790,
     "user": {
      "displayName": "fish ai",
      "photoUrl": "",
      "userId": "00695505613264305478"
     },
     "user_tz": -330
    },
    "id": "atlantic-illustration"
   },
   "outputs": [],
   "source": [
    "label = kmeans_model.predict(feat[0].reshape(1, feat[0].shape[0]))\n",
    "selected_ind = np.where(kmeans_model.labels_ == label)\n",
    "d_feats = df_embeddings.iloc[selected_ind].vec"
   ]
  },
  {
   "cell_type": "code",
   "execution_count": 23,
   "id": "considerable-india",
   "metadata": {
    "colab": {
     "base_uri": "https://localhost:8080/"
    },
    "executionInfo": {
     "elapsed": 7,
     "status": "ok",
     "timestamp": 1622378968235,
     "user": {
      "displayName": "fish ai",
      "photoUrl": "",
      "userId": "00695505613264305478"
     },
     "user_tz": -330
    },
    "id": "considerable-india",
    "outputId": "ac402753-69d8-4bfa-a1a1-36563295bdb9"
   },
   "outputs": [
    {
     "data": {
      "text/plain": [
       "array([2730, 3631, 1900, 2384,  568])"
      ]
     },
     "execution_count": 23,
     "metadata": {
      "tags": []
     },
     "output_type": "execute_result"
    }
   ],
   "source": [
    "top_n = 5\n",
    "dist = cdist(feat, list(d_feats.values), 'euclidean')[0]\n",
    "ind = np.argpartition(dist, top_n)[:top_n]\n",
    "ind"
   ]
  },
  {
   "cell_type": "markdown",
   "id": "odlwj0lR1rUG",
   "metadata": {
    "id": "odlwj0lR1rUG"
   },
   "source": [
    "### Visualize the top images"
   ]
  },
  {
   "cell_type": "code",
   "execution_count": 24,
   "id": "injured-fleece",
   "metadata": {
    "colab": {
     "base_uri": "https://localhost:8080/",
     "height": 280
    },
    "executionInfo": {
     "elapsed": 1268,
     "status": "ok",
     "timestamp": 1622378970613,
     "user": {
      "displayName": "fish ai",
      "photoUrl": "",
      "userId": "00695505613264305478"
     },
     "user_tz": -330
    },
    "id": "injured-fleece",
    "outputId": "0f049421-8031-4d8d-98fa-7003efa22aa1"
   },
   "outputs": [
    {
     "data": {
      "image/png": "[encoded data removed]",
      "text/plain": [
       "<Figure size 1080x360 with 6 Axes>"
      ]
     },
     "metadata": {
      "needs_background": "light",
      "tags": []
     },
     "output_type": "display_data"
    }
   ],
   "source": [
    "fig = plt.figure(figsize=(15, 5))\n",
    "fig.suptitle('Cluster Resnet Quering cifar-10', fontweight =\"bold\")\n",
    "no_of_images = top_n+1\n",
    "\n",
    "ax = fig.add_subplot(1, no_of_images, 1)\n",
    "ax.imshow(unnormalize(target))\n",
    "ax.set_title('query {}'.format(target_label))\n",
    "\n",
    "for i in range(1, no_of_images):\n",
    "    ax = fig.add_subplot(1, no_of_images, i+1)\n",
    "    ax.imshow(unnormalize(train_dataset[ind[i-1]][0]))\n",
    "    ax.set_title('{}'.format(cifar10_classes[train_dataset[ind[i-1]][1]]))"
   ]
  },
  {
   "cell_type": "markdown",
   "id": "fJV1sPlL3YCe",
   "metadata": {
    "id": "fJV1sPlL3YCe"
   },
   "source": [
    "**Thank you**"
   ]
  }
 ],
 "metadata": {
  "accelerator": "GPU",
  "colab": {
   "collapsed_sections": [],
   "name": "cluster_search_v1.ipynb",
   "provenance": []
  },
  "kernelspec": {
   "display_name": "Python 3 (ipykernel)",
   "language": "python",
   "name": "python3"
  },
  "language_info": {
   "codemirror_mode": {
    "name": "ipython",
    "version": 3
   },
   "file_extension": ".py",
   "mimetype": "text/x-python",
   "name": "python",
   "nbconvert_exporter": "python",
   "pygments_lexer": "ipython3",
   "version": "3.9.16"
  },
  "widgets": {
   "application/vnd.jupyter.widget-state+json": {
    "42ad6953713b49c6a0f284cc0d69a498": {
     "model_module": "@jupyter-widgets/base",
     "model_name": "LayoutModel",
     "state": {
      "_model_module": "@jupyter-widgets/base",
      "_model_module_version": "1.2.0",
      "_model_name": "LayoutModel",
      "_view_count": null,
      "_view_module": "@jupyter-widgets/base",
      "_view_module_version": "1.2.0",
      "_view_name": "LayoutView",
      "align_content": null,
      "align_items": null,
      "align_self": null,
      "border": null,
      "bottom": null,
      "display": null,
      "flex": null,
      "flex_flow": null,
      "grid_area": null,
      "grid_auto_columns": null,
      "grid_auto_flow": null,
      "grid_auto_rows": null,
      "grid_column": null,
      "grid_gap": null,
      "grid_row": null,
      "grid_template_areas": null,
      "grid_template_columns": null,
      "grid_template_rows": null,
      "height": null,
      "justify_content": null,
      "justify_items": null,
      "left": null,
      "margin": null,
      "max_height": null,
      "max_width": null,
      "min_height": null,
      "min_width": null,
      "object_fit": null,
      "object_position": null,
      "order": null,
      "overflow": null,
      "overflow_x": null,
      "overflow_y": null,
      "padding": null,
      "right": null,
      "top": null,
      "visibility": null,
      "width": null
     }
    },
    "4f87cf26f4424d8a810b20885eeb897a": {
     "model_module": "@jupyter-widgets/base",
     "model_name": "LayoutModel",
     "state": {
      "_model_module": "@jupyter-widgets/base",
      "_model_module_version": "1.2.0",
      "_model_name": "LayoutModel",
      "_view_count": null,
      "_view_module": "@jupyter-widgets/base",
      "_view_module_version": "1.2.0",
      "_view_name": "LayoutView",
      "align_content": null,
      "align_items": null,
      "align_self": null,
      "border": null,
      "bottom": null,
      "display": null,
      "flex": null,
      "flex_flow": null,
      "grid_area": null,
      "grid_auto_columns": null,
      "grid_auto_flow": null,
      "grid_auto_rows": null,
      "grid_column": null,
      "grid_gap": null,
      "grid_row": null,
      "grid_template_areas": null,
      "grid_template_columns": null,
      "grid_template_rows": null,
      "height": null,
      "justify_content": null,
      "justify_items": null,
      "left": null,
      "margin": null,
      "max_height": null,
      "max_width": null,
      "min_height": null,
      "min_width": null,
      "object_fit": null,
      "object_position": null,
      "order": null,
      "overflow": null,
      "overflow_x": null,
      "overflow_y": null,
      "padding": null,
      "right": null,
      "top": null,
      "visibility": null,
      "width": null
     }
    },
    "69bb1293996a4b20ba72820ccc728be7": {
     "model_module": "@jupyter-widgets/controls",
     "model_name": "HTMLModel",
     "state": {
      "_dom_classes": [],
      "_model_module": "@jupyter-widgets/controls",
      "_model_module_version": "1.5.0",
      "_model_name": "HTMLModel",
      "_view_count": null,
      "_view_module": "@jupyter-widgets/controls",
      "_view_module_version": "1.5.0",
      "_view_name": "HTMLView",
      "description": "",
      "description_tooltip": null,
      "layout": "IPY_MODEL_8c5e684729dc4e8c9f1b827b0fd777fd",
      "placeholder": "​",
      "style": "IPY_MODEL_94a181d20e974b62babe6b8162b63052",
      "value": " 97.8M/97.8M [00:18&lt;00:00, 5.44MB/s]"
     }
    },
    "7d6540861057461cae4edde135d6440a": {
     "model_module": "@jupyter-widgets/controls",
     "model_name": "FloatProgressModel",
     "state": {
      "_dom_classes": [],
      "_model_module": "@jupyter-widgets/controls",
      "_model_module_version": "1.5.0",
      "_model_name": "FloatProgressModel",
      "_view_count": null,
      "_view_module": "@jupyter-widgets/controls",
      "_view_module_version": "1.5.0",
      "_view_name": "ProgressView",
      "bar_style": "success",
      "description": "100%",
      "description_tooltip": null,
      "layout": "IPY_MODEL_42ad6953713b49c6a0f284cc0d69a498",
      "max": 102502400,
      "min": 0,
      "orientation": "horizontal",
      "style": "IPY_MODEL_aa73a2505f2845718f3cafcb2331faa7",
      "value": 102502400
     }
    },
    "8c5e684729dc4e8c9f1b827b0fd777fd": {
     "model_module": "@jupyter-widgets/base",
     "model_name": "LayoutModel",
     "state": {
      "_model_module": "@jupyter-widgets/base",
      "_model_module_version": "1.2.0",
      "_model_name": "LayoutModel",
      "_view_count": null,
      "_view_module": "@jupyter-widgets/base",
      "_view_module_version": "1.2.0",
      "_view_name": "LayoutView",
      "align_content": null,
      "align_items": null,
      "align_self": null,
      "border": null,
      "bottom": null,
      "display": null,
      "flex": null,
      "flex_flow": null,
      "grid_area": null,
      "grid_auto_columns": null,
      "grid_auto_flow": null,
      "grid_auto_rows": null,
      "grid_column": null,
      "grid_gap": null,
      "grid_row": null,
      "grid_template_areas": null,
      "grid_template_columns": null,
      "grid_template_rows": null,
      "height": null,
      "justify_content": null,
      "justify_items": null,
      "left": null,
      "margin": null,
      "max_height": null,
      "max_width": null,
      "min_height": null,
      "min_width": null,
      "object_fit": null,
      "object_position": null,
      "order": null,
      "overflow": null,
      "overflow_x": null,
      "overflow_y": null,
      "padding": null,
      "right": null,
      "top": null,
      "visibility": null,
      "width": null
     }
    },
    "90a23a666c014849bec17743d6bbd941": {
     "model_module": "@jupyter-widgets/controls",
     "model_name": "HBoxModel",
     "state": {
      "_dom_classes": [],
      "_model_module": "@jupyter-widgets/controls",
      "_model_module_version": "1.5.0",
      "_model_name": "HBoxModel",
      "_view_count": null,
      "_view_module": "@jupyter-widgets/controls",
      "_view_module_version": "1.5.0",
      "_view_name": "HBoxView",
      "box_style": "",
      "children": [
       "IPY_MODEL_7d6540861057461cae4edde135d6440a",
       "IPY_MODEL_69bb1293996a4b20ba72820ccc728be7"
      ],
      "layout": "IPY_MODEL_4f87cf26f4424d8a810b20885eeb897a"
     }
    },
    "94a181d20e974b62babe6b8162b63052": {
     "model_module": "@jupyter-widgets/controls",
     "model_name": "DescriptionStyleModel",
     "state": {
      "_model_module": "@jupyter-widgets/controls",
      "_model_module_version": "1.5.0",
      "_model_name": "DescriptionStyleModel",
      "_view_count": null,
      "_view_module": "@jupyter-widgets/base",
      "_view_module_version": "1.2.0",
      "_view_name": "StyleView",
      "description_width": ""
     }
    },
    "aa73a2505f2845718f3cafcb2331faa7": {
     "model_module": "@jupyter-widgets/controls",
     "model_name": "ProgressStyleModel",
     "state": {
      "_model_module": "@jupyter-widgets/controls",
      "_model_module_version": "1.5.0",
      "_model_name": "ProgressStyleModel",
      "_view_count": null,
      "_view_module": "@jupyter-widgets/base",
      "_view_module_version": "1.2.0",
      "_view_name": "StyleView",
      "bar_color": null,
      "description_width": "initial"
     }
    }
   }
  }
 },
 "nbformat": 4,
 "nbformat_minor": 5
}
