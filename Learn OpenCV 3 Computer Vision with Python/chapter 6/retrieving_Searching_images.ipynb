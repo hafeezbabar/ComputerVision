{
 "cells": [
  {
   "cell_type": "markdown",
   "metadata": {},
   "source": [
    "### Retrieving Images and Searching Using Image Descriptors"
   ]
  },
  {
   "cell_type": "markdown",
   "metadata": {},
   "source": [
    "#### Feature detection algorithms\n",
    "- Harris: This algorithm is useful to detect corners\n",
    "- SIFT: This algorithm is useful to detect blobs\n",
    "- SURF: This algorithm is useful to detect blobs\n",
    "- FAST: This algorithm is useful to detect corners\n",
    "- BRIEF: This algorithm is useful to detect blobs\n",
    "- ORB: This algorithm stands for Oriented FAST and Rotated BRIEF\n",
    "\n",
    "Matching features can be performed with the following methods:\n",
    "- Brute-Force matching\n",
    "- FLANN-based matching"
   ]
  },
  {
   "cell_type": "markdown",
   "metadata": {},
   "source": [
    "##### Defining features\n",
    " - a feature is an area of interest in the image that is unique or easily recognizable. As you can imagine, corners and high-density areas are good features, while patterns that repeat themselves a lot or low-density areas (such as a blue sky) are not. Edges are good features as they tend to divide two regions of an image. A blob (an area of an image that greatly differs from its surrounding areas) is also an interesting feature"
   ]
  },
  {
   "cell_type": "markdown",
   "metadata": {},
   "source": [
    "#### Detecting features – corners"
   ]
  },
  {
   "cell_type": "markdown",
   "metadata": {},
   "source": []
  },
  {
   "cell_type": "markdown",
   "metadata": {},
   "source": []
  },
  {
   "cell_type": "code",
   "execution_count": 1,
   "metadata": {},
   "outputs": [
    {
     "ename": "TypeError",
     "evalue": "Argument 'delay' is required to be an integer",
     "output_type": "error",
     "traceback": [
      "\u001b[1;31m---------------------------------------------------------------------------\u001b[0m",
      "\u001b[1;31mTypeError\u001b[0m                                 Traceback (most recent call last)",
      "\u001b[1;32md:\\Computer Vision Coding\\Computer Vision\\Learn OpenCV 3 Computer Vision with Python\\chapter 6\\retrieving_Searching_images.ipynb Cell 7\u001b[0m line \u001b[0;36m1\n\u001b[0;32m     <a href='vscode-notebook-cell:/d%3A/Computer%20Vision%20Coding/Computer%20Vision/Learn%20OpenCV%203%20Computer%20Vision%20with%20Python/chapter%206/retrieving_Searching_images.ipynb#W6sZmlsZQ%3D%3D?line=9'>10</a>\u001b[0m \u001b[39mwhile\u001b[39;00m (\u001b[39mTrue\u001b[39;00m):\n\u001b[0;32m     <a href='vscode-notebook-cell:/d%3A/Computer%20Vision%20Coding/Computer%20Vision/Learn%20OpenCV%203%20Computer%20Vision%20with%20Python/chapter%206/retrieving_Searching_images.ipynb#W6sZmlsZQ%3D%3D?line=10'>11</a>\u001b[0m   cv2\u001b[39m.\u001b[39mimshow(\u001b[39m'\u001b[39m\u001b[39mcorners\u001b[39m\u001b[39m'\u001b[39m, img)\n\u001b[1;32m---> <a href='vscode-notebook-cell:/d%3A/Computer%20Vision%20Coding/Computer%20Vision/Learn%20OpenCV%203%20Computer%20Vision%20with%20Python/chapter%206/retrieving_Searching_images.ipynb#W6sZmlsZQ%3D%3D?line=11'>12</a>\u001b[0m   \u001b[39mif\u001b[39;00m cv2\u001b[39m.\u001b[39;49mwaitKey(\u001b[39m1000\u001b[39;49m \u001b[39m/\u001b[39;49m \u001b[39m12\u001b[39;49m) \u001b[39m&\u001b[39m \u001b[39m0xff\u001b[39m \u001b[39m==\u001b[39m \u001b[39mord\u001b[39m(\u001b[39m\"\u001b[39m\u001b[39mq\u001b[39m\u001b[39m\"\u001b[39m):\n\u001b[0;32m     <a href='vscode-notebook-cell:/d%3A/Computer%20Vision%20Coding/Computer%20Vision/Learn%20OpenCV%203%20Computer%20Vision%20with%20Python/chapter%206/retrieving_Searching_images.ipynb#W6sZmlsZQ%3D%3D?line=12'>13</a>\u001b[0m     \u001b[39mbreak\u001b[39;00m\n\u001b[0;32m     <a href='vscode-notebook-cell:/d%3A/Computer%20Vision%20Coding/Computer%20Vision/Learn%20OpenCV%203%20Computer%20Vision%20with%20Python/chapter%206/retrieving_Searching_images.ipynb#W6sZmlsZQ%3D%3D?line=13'>14</a>\u001b[0m cv2\u001b[39m.\u001b[39mdestroyAllWindows()\n",
      "\u001b[1;31mTypeError\u001b[0m: Argument 'delay' is required to be an integer"
     ]
    },
    {
     "ename": "",
     "evalue": "",
     "output_type": "error",
     "traceback": [
      "\u001b[1;31mThe Kernel crashed while executing code in the the current cell or a previous cell. Please review the code in the cell(s) to identify a possible cause of the failure. Click <a href='https://aka.ms/vscodeJupyterKernelCrash'>here</a> for more info. View Jupyter <a href='command:jupyter.viewOutput'>log</a> for further details."
     ]
    }
   ],
   "source": [
    "import cv2\n",
    "import numpy as np\n",
    "import sys\n",
    "\n",
    "img = cv2.imread('chess_board.png')\n",
    "gray = cv2.cvtColor(img, cv2.COLOR_BGR2GRAY)\n",
    "gray = np.float32(gray)\n",
    "dst = cv2.cornerHarris(gray, 9, 23, 0.04)\n",
    "img[dst>0.01 * dst.max()] = [0, 0, 255] \n",
    "while (True):\n",
    "  cv2.imshow('corners', img)\n",
    "  if cv2.waitKey(1000 / 12) & 0xff == ord(\"q\"):\n",
    "    break\n",
    "cv2.destroyAllWindows()"
   ]
  },
  {
   "cell_type": "code",
   "execution_count": null,
   "metadata": {},
   "outputs": [],
   "source": []
  }
 ],
 "metadata": {
  "kernelspec": {
   "display_name": "base",
   "language": "python",
   "name": "python3"
  },
  "language_info": {
   "codemirror_mode": {
    "name": "ipython",
    "version": 3
   },
   "file_extension": ".py",
   "mimetype": "text/x-python",
   "name": "python",
   "nbconvert_exporter": "python",
   "pygments_lexer": "ipython3",
   "version": "3.9.16"
  }
 },
 "nbformat": 4,
 "nbformat_minor": 2
}
