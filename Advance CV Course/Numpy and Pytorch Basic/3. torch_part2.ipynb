{
 "cells": [
  {
   "cell_type": "markdown",
   "id": "a1d19f62",
   "metadata": {},
   "source": [
    "###  Pytorh and Numpy\n",
    "- whether you can do in NumPy or you can do in Pytorch and much more in Both GPU and CPU"
   ]
  },
  {
   "cell_type": "code",
   "execution_count": 33,
   "id": "20f83c4f",
   "metadata": {},
   "outputs": [],
   "source": [
    "#import torch\n",
    "import numpy as np\n",
    "import torch"
   ]
  },
  {
   "cell_type": "markdown",
   "id": "5f2a7fbe",
   "metadata": {},
   "source": [
    "### torch.eye\n",
    " - torch.eye(number)   : number =3 , it create a three across identity matrix"
   ]
  },
  {
   "cell_type": "code",
   "execution_count": 4,
   "id": "806f8e30",
   "metadata": {},
   "outputs": [
    {
     "name": "stdout",
     "output_type": "stream",
     "text": [
      "tensor([[1., 0., 0.],\n",
      "        [0., 1., 0.],\n",
      "        [0., 0., 1.]])\n"
     ]
    }
   ],
   "source": [
    "number = 3\n",
    "arr = torch.eye(number)\n",
    "print(arr)"
   ]
  },
  {
   "cell_type": "code",
   "execution_count": 5,
   "id": "5e768ed9",
   "metadata": {},
   "outputs": [
    {
     "name": "stdout",
     "output_type": "stream",
     "text": [
      "tensor([[1., 0., 0., 0., 0.],\n",
      "        [0., 1., 0., 0., 0.],\n",
      "        [0., 0., 1., 0., 0.]])\n"
     ]
    }
   ],
   "source": [
    "arr = torch.eye(3,5)\n",
    "print(arr)"
   ]
  },
  {
   "cell_type": "markdown",
   "id": "690b152b",
   "metadata": {},
   "source": [
    "### torch.cat"
   ]
  },
  {
   "cell_type": "code",
   "execution_count": 6,
   "id": "5820a3b9",
   "metadata": {},
   "outputs": [
    {
     "name": "stdout",
     "output_type": "stream",
     "text": [
      "tensor([[1, 2, 2],\n",
      "        [1, 2, 1]])\n",
      "tensor([[1, 2, 2],\n",
      "        [1, 1, 1]])\n"
     ]
    }
   ],
   "source": [
    "x = torch.randint(low = 1, high = 3, size = (2,3))\n",
    "y = torch.randint(low = 1, high = 3, size = (2,3))\n",
    "print(x)\n",
    "print(y)"
   ]
  },
  {
   "cell_type": "code",
   "execution_count": 8,
   "id": "54547cfc",
   "metadata": {},
   "outputs": [
    {
     "data": {
      "text/plain": [
       "tensor([[1, 2, 2],\n",
       "        [1, 2, 1],\n",
       "        [1, 2, 2],\n",
       "        [1, 1, 1]])"
      ]
     },
     "execution_count": 8,
     "metadata": {},
     "output_type": "execute_result"
    }
   ],
   "source": [
    "torch.cat((x,y))  # here, default x= 0 "
   ]
  },
  {
   "cell_type": "code",
   "execution_count": 9,
   "id": "2e9fb6f0",
   "metadata": {},
   "outputs": [
    {
     "data": {
      "text/plain": [
       "tensor([[1, 2, 2],\n",
       "        [1, 2, 1],\n",
       "        [1, 2, 2],\n",
       "        [1, 1, 1]])"
      ]
     },
     "execution_count": 9,
     "metadata": {},
     "output_type": "execute_result"
    }
   ],
   "source": [
    "# Same as vStack\n",
    "torch.vstack((x,y))"
   ]
  },
  {
   "cell_type": "code",
   "execution_count": 10,
   "id": "26eb85f1",
   "metadata": {},
   "outputs": [
    {
     "data": {
      "text/plain": [
       "tensor([[1, 2, 2, 1, 2, 2],\n",
       "        [1, 2, 1, 1, 1, 1]])"
      ]
     },
     "execution_count": 10,
     "metadata": {},
     "output_type": "execute_result"
    }
   ],
   "source": [
    "# Same as Hstack\n",
    "torch.hstack((x,y))"
   ]
  },
  {
   "cell_type": "code",
   "execution_count": 13,
   "id": "c4fde918",
   "metadata": {},
   "outputs": [
    {
     "name": "stdout",
     "output_type": "stream",
     "text": [
      "torch.Size([2, 3]) torch.Size([3, 2])\n"
     ]
    }
   ],
   "source": [
    "x = x.T\n",
    "print(x.shape, x.T.shape)"
   ]
  },
  {
   "cell_type": "code",
   "execution_count": 14,
   "id": "9cbf5bc4",
   "metadata": {},
   "outputs": [
    {
     "name": "stdout",
     "output_type": "stream",
     "text": [
      "tensor([[1, 2, 2],\n",
      "        [1, 1, 1]])\n"
     ]
    },
    {
     "data": {
      "text/plain": [
       "tensor([[1, 2, 2, 1, 2, 2],\n",
       "        [1, 2, 1, 1, 1, 1]])"
      ]
     },
     "execution_count": 14,
     "metadata": {},
     "output_type": "execute_result"
    }
   ],
   "source": [
    "print(y)\n",
    "torch.cat((x,y), axis = 1)  # axis =1 concatenate by columns wise"
   ]
  },
  {
   "cell_type": "markdown",
   "id": "19c60924",
   "metadata": {},
   "source": [
    "### torch unbind\n",
    " - Remove tensor dimension\n",
    " - Return a tuple of all slices along a given dimension"
   ]
  },
  {
   "cell_type": "code",
   "execution_count": 15,
   "id": "2cf9a2c9",
   "metadata": {},
   "outputs": [
    {
     "name": "stdout",
     "output_type": "stream",
     "text": [
      "tensor([[[3, 3, 3, 1],\n",
      "         [3, 1, 2, 3]],\n",
      "\n",
      "        [[2, 3, 1, 3],\n",
      "         [1, 3, 2, 1]],\n",
      "\n",
      "        [[2, 2, 2, 1],\n",
      "         [2, 2, 1, 1]]])\n"
     ]
    }
   ],
   "source": [
    "x = torch.randint(low = 1, high = 4, size = (3,2,4))\n",
    "print(x)"
   ]
  },
  {
   "cell_type": "code",
   "execution_count": 17,
   "id": "f4641fe0",
   "metadata": {},
   "outputs": [
    {
     "name": "stdout",
     "output_type": "stream",
     "text": [
      "3\n",
      "tensor([[3, 3, 3, 1],\n",
      "        [3, 1, 2, 3]]) tensor([[2, 3, 1, 3],\n",
      "        [1, 3, 2, 1]]) tensor([[2, 2, 2, 1],\n",
      "        [2, 2, 1, 1]])\n"
     ]
    }
   ],
   "source": [
    "f = torch.unbind(x, dim = 0)\n",
    "print(len(f))\n",
    "print(f[0], f[1], f[2])"
   ]
  },
  {
   "cell_type": "code",
   "execution_count": 19,
   "id": "f6ccbb21",
   "metadata": {},
   "outputs": [
    {
     "name": "stdout",
     "output_type": "stream",
     "text": [
      "2\n",
      "tensor([[3, 3, 3, 1],\n",
      "        [2, 3, 1, 3],\n",
      "        [2, 2, 2, 1]]) tensor([[3, 1, 2, 3],\n",
      "        [1, 3, 2, 1],\n",
      "        [2, 2, 1, 1]])\n"
     ]
    }
   ],
   "source": [
    "f = torch.unbind(x, dim = 1)\n",
    "print(len(f))\n",
    "print(f[0], f[1])"
   ]
  },
  {
   "cell_type": "markdown",
   "id": "0a9212cb",
   "metadata": {},
   "source": [
    "### Euclidean distance in Pytorch"
   ]
  },
  {
   "cell_type": "code",
   "execution_count": 21,
   "id": "83e878d8",
   "metadata": {},
   "outputs": [
    {
     "name": "stdout",
     "output_type": "stream",
     "text": [
      "tensor([1.8322, 0.8372])\n"
     ]
    }
   ],
   "source": [
    "euc_distance = torch.nn.PairwiseDistance(p=2)\n",
    "value1 = torch.randn(2,3)\n",
    "value2 = torch.randn(2,3)\n",
    "result  = euc_distance(value1, value2)\n",
    "print(result)"
   ]
  },
  {
   "cell_type": "markdown",
   "id": "45193e49",
   "metadata": {},
   "source": [
    "### Search topn \n",
    " - useful, which search for bulky products on top in products.\n",
    " -  Here, created three by four dimensional matrix"
   ]
  },
  {
   "cell_type": "code",
   "execution_count": 29,
   "id": "daa2d35f",
   "metadata": {},
   "outputs": [
    {
     "name": "stdout",
     "output_type": "stream",
     "text": [
      "tensor([[89, 57, 11, 71],\n",
      "        [30, 39, 83, 14],\n",
      "        [ 8,  5, 65, 95]])\n"
     ]
    }
   ],
   "source": [
    "y = torch.randint(low = 1, high = 100, size = (3,4))\n",
    "print(y)"
   ]
  },
  {
   "cell_type": "code",
   "execution_count": 30,
   "id": "f4e09158",
   "metadata": {},
   "outputs": [
    {
     "data": {
      "text/plain": [
       "torch.return_types.topk(\n",
       "values=tensor([[89, 71, 57],\n",
       "        [83, 39, 30],\n",
       "        [95, 65,  8]]),\n",
       "indices=tensor([[0, 3, 1],\n",
       "        [2, 1, 0],\n",
       "        [3, 2, 0]]))"
      ]
     },
     "execution_count": 30,
     "metadata": {},
     "output_type": "execute_result"
    }
   ],
   "source": [
    "torch.topk(y,3)"
   ]
  },
  {
   "cell_type": "markdown",
   "id": "3b0399a9",
   "metadata": {},
   "source": [
    "### Tensor Views\n",
    " - Pytorch allow a tensor to be view of an existing tensor. View tensor shares the same underlying tensor.\n",
    " - Suppororting view avoids explicit data copy, thus allow us to do fast and memory efficient and element wise operations.\n",
    " "
   ]
  },
  {
   "cell_type": "code",
   "execution_count": 31,
   "id": "6b27947e",
   "metadata": {},
   "outputs": [
    {
     "name": "stdout",
     "output_type": "stream",
     "text": [
      "tensor([[4, 1, 1, 2]]) torch.Size([1, 4])\n"
     ]
    }
   ],
   "source": [
    "arr = torch.randint(low = 1, high = 5, size = (1,4))\n",
    "print(arr, arr.shape)"
   ]
  },
  {
   "cell_type": "code",
   "execution_count": 32,
   "id": "7affc262",
   "metadata": {},
   "outputs": [
    {
     "name": "stdout",
     "output_type": "stream",
     "text": [
      "tensor([4, 1, 1, 2]) torch.Size([4])\n"
     ]
    }
   ],
   "source": [
    "print(arr.view(4), arr.view(4).shape)"
   ]
  },
  {
   "cell_type": "code",
   "execution_count": null,
   "id": "bb8beeaa",
   "metadata": {},
   "outputs": [],
   "source": []
  }
 ],
 "metadata": {
  "kernelspec": {
   "display_name": "Python 3 (ipykernel)",
   "language": "python",
   "name": "python3"
  },
  "language_info": {
   "codemirror_mode": {
    "name": "ipython",
    "version": 3
   },
   "file_extension": ".py",
   "mimetype": "text/x-python",
   "name": "python",
   "nbconvert_exporter": "python",
   "pygments_lexer": "ipython3",
   "version": "3.9.16"
  }
 },
 "nbformat": 4,
 "nbformat_minor": 5
}
