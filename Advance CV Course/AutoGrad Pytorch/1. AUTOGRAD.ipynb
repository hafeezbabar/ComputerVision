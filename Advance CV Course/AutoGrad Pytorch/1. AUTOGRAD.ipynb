{
 "cells": [
  {
   "cell_type": "markdown",
   "id": "5966af86",
   "metadata": {},
   "source": [
    "### Import Libraries"
   ]
  },
  {
   "cell_type": "code",
   "execution_count": 7,
   "id": "7cb21886",
   "metadata": {},
   "outputs": [],
   "source": [
    "import torch\n",
    "import torchvision\n",
    "import torch.nn as nn\n",
    "import numpy as np\n",
    "import torchvision.transforms as transforms"
   ]
  },
  {
   "cell_type": "markdown",
   "id": "d52ec7b4",
   "metadata": {},
   "source": [
    "# AUTOGRAD\n",
    " - torch.autograd is PyTorch automatic differentiation enginer that powers neural network training.\n",
    " - Neural Networks are a colloction of nested functions that are executed on some input data. These functions are defined by parameters (consisting of weights and biases), which in PyTorch are stored in tensors.\n",
    " - Training a NN happens in two Steps:\n",
    "  - Forward Propagation\n",
    "  - Backward Propagation\n",
    " - "
   ]
  },
  {
   "cell_type": "code",
   "execution_count": 8,
   "id": "b8ea4eec",
   "metadata": {},
   "outputs": [],
   "source": [
    "x = torch.tensor(1., requires_grad = True)\n",
    "w = torch.tensor(2., requires_grad = True)\n",
    "b = torch.tensor(3., requires_grad = True)"
   ]
  },
  {
   "cell_type": "code",
   "execution_count": 9,
   "id": "e300b367",
   "metadata": {},
   "outputs": [],
   "source": [
    "# Build a computational Graph\n",
    "y = w * x + b   # y = 2 * x + 3"
   ]
  },
  {
   "cell_type": "code",
   "execution_count": 10,
   "id": "89b5c3a3",
   "metadata": {},
   "outputs": [
    {
     "name": "stdout",
     "output_type": "stream",
     "text": [
      "tensor(2.)\n",
      "tensor(1.)\n",
      "tensor(1.)\n"
     ]
    }
   ],
   "source": [
    "# Compute gradinet\n",
    "y.backward()\n",
    "\n",
    "# print out the gradiends\n",
    "print(x.grad) # x.grad = 2\n",
    "print(w.grad) # w.grad = 1\n",
    "print(b.grad) # b.grad = 1"
   ]
  },
  {
   "cell_type": "code",
   "execution_count": 11,
   "id": "f94ec078",
   "metadata": {},
   "outputs": [
    {
     "name": "stdout",
     "output_type": "stream",
     "text": [
      "tensor(8.) tensor(4.) tensor(5.) tensor(4.) tensor(1.)\n"
     ]
    }
   ],
   "source": [
    "# Build a computational graph.\n",
    "x = torch.tensor(1., requires_grad=True)\n",
    "w1 = torch.tensor(2., requires_grad=True)\n",
    "b1 = torch.tensor(3., requires_grad=True)\n",
    "\n",
    "w2 = torch.tensor(4., requires_grad=True)\n",
    "b2 = torch.tensor(5., requires_grad=True)\n",
    "\n",
    "\n",
    "layer_1 = w1 * x + b1\n",
    "layer_2 = w2 * layer_1 + b2 # w2 * (w1 * x + b1) + b2\n",
    "\n",
    "layer_2.backward()\n",
    "\n",
    "print(x.grad, w1.grad, w2.grad, b1.grad, b2.grad)"
   ]
  },
  {
   "cell_type": "code",
   "execution_count": 15,
   "id": "a3eef83d",
   "metadata": {},
   "outputs": [
    {
     "name": "stdout",
     "output_type": "stream",
     "text": [
      "x.shape: torch.Size([10, 5])\n",
      "y: tensor([[-0.4266, -1.5462],\n",
      "        [-0.4521, -0.9512],\n",
      "        [ 0.0422, -0.1928],\n",
      "        [-0.8604,  0.4745],\n",
      "        [-1.2809, -0.8850],\n",
      "        [ 1.3403,  0.3184],\n",
      "        [-1.1866, -1.4856],\n",
      "        [-0.4390,  1.4845],\n",
      "        [ 1.2085,  1.3159],\n",
      "        [ 0.6691, -0.6286]]) , y.shape: torch.Size([10, 2])\n",
      "w: Parameter containing:\n",
      "tensor([[ 0.0194,  0.0070,  0.2858,  0.3514, -0.1225],\n",
      "        [-0.2340,  0.0119, -0.0801, -0.2613,  0.0685]], requires_grad=True) w.shape: torch.Size([2, 5])\n",
      "b: Parameter containing:\n",
      "tensor([-0.2615,  0.1894], requires_grad=True) w.shape: torch.Size([2])\n",
      "pred.shape : torch.Size([10, 2])\n",
      "Loss:  1.273423433303833\n",
      "dl/dw :  tensor([[-0.2348, -0.3216,  0.0631,  0.1207,  0.0117],\n",
      "        [-0.4212,  0.3701, -0.4504, -0.8530,  0.6717]])\n",
      "dL/dw :  tensor([-0.2701,  0.4869])\n",
      "loss after 1 step optimization: 1.273423433303833\n"
     ]
    }
   ],
   "source": [
    "# Create tensors of shape (10, 3) and (10, 2).\n",
    "feat_dim = 5\n",
    "x = torch.randn(10, feat_dim)\n",
    "y = torch.randn(10, 2)\n",
    "print('x.shape: {}'.format(x.shape))\n",
    "print('y: {} , y.shape: {}'.format(y, y.shape))\n",
    "\n",
    "\n",
    "# build a fully connected layer\n",
    "linear = nn.Linear(feat_dim, 2)\n",
    "print('w: {} w.shape: {}'.format(linear.weight, linear.weight.shape))\n",
    "print('b: {} w.shape: {}'.format(linear.bias, linear.bias.shape))\n",
    "\n",
    "# Build Loss and optimizer\n",
    "criterion = nn.MSELoss()\n",
    "optimizer = torch.optim.SGD(linear.parameters(), lr = 0.001)\n",
    "\n",
    "# Forward pass\n",
    "pred = linear(x)\n",
    "print('pred.shape : {}'.format(pred.shape))\n",
    "\n",
    "# Computer Loss\n",
    "loss = criterion(pred, y)\n",
    "print('Loss: ', loss.item())\n",
    "\n",
    "#Backward pass\n",
    "loss.backward()\n",
    "\n",
    "#print out the gradients\n",
    "print('dl/dw : ', linear.weight.grad)\n",
    "print('dL/dw : ',linear.bias.grad)\n",
    "\n",
    "# 1-Step gradient desce\n",
    "#optimizer = step\n",
    "\n",
    "linear.weight.data = linear.weight.data - (0.01 * linear.weight.grad.data)\n",
    "linear.bias.data = linear.bias.data - (0.01 * linear.bias.grad.data)\n",
    "\n",
    "\n",
    "# print out the loss after 1-Step gradient descent\n",
    "#pred  = linear(x)\n",
    "#loss = criterion(pred, y)\n",
    "print('loss after 1 step optimization:', loss.item())\n",
    "\n"
   ]
  },
  {
   "cell_type": "code",
   "execution_count": null,
   "id": "e03a5bcd",
   "metadata": {},
   "outputs": [],
   "source": []
  },
  {
   "cell_type": "code",
   "execution_count": null,
   "id": "6997990a",
   "metadata": {},
   "outputs": [],
   "source": []
  },
  {
   "cell_type": "code",
   "execution_count": null,
   "id": "c4eb6df6",
   "metadata": {},
   "outputs": [],
   "source": []
  }
 ],
 "metadata": {
  "kernelspec": {
   "display_name": "Python 3 (ipykernel)",
   "language": "python",
   "name": "python3"
  },
  "language_info": {
   "codemirror_mode": {
    "name": "ipython",
    "version": 3
   },
   "file_extension": ".py",
   "mimetype": "text/x-python",
   "name": "python",
   "nbconvert_exporter": "python",
   "pygments_lexer": "ipython3",
   "version": "3.9.16"
  }
 },
 "nbformat": 4,
 "nbformat_minor": 5
}
