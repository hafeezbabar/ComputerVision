{
 "cells": [
  {
   "cell_type": "code",
   "execution_count": 1,
   "metadata": {},
   "outputs": [],
   "source": [
    "### Depth Estimation Segmentation"
   ]
  },
  {
   "cell_type": "code",
   "execution_count": null,
   "metadata": {},
   "outputs": [],
   "source": [
    "### Importing Libraries\n",
    "import cv2\n",
    "import numpy\n",
    "import utils\n",
    "import depth"
   ]
  },
  {
   "cell_type": "markdown",
   "metadata": {},
   "source": [
    "#### Capturing frames from a depth camera"
   ]
  },
  {
   "cell_type": "code",
   "execution_count": null,
   "metadata": {},
   "outputs": [],
   "source": [
    "import cv2\n",
    "import numpy as np\n",
    "from matplotlib import pyplot as plt\n",
    "\n",
    "def to_uint8( data ) :\n",
    "    # maximum pixel\n",
    "    latch = np.zeros_like( data )\n",
    "    latch[:] = 255\n",
    "    # minimum pixel\n",
    "    zeros = np.zeros_like( data )\n",
    "\n",
    "    # unrolled to illustrate steps\n",
    "    d = np.maximum( zeros, data )\n",
    "    d = np.minimum( latch, d )\n",
    "\n",
    "    # cast to uint8\n",
    "    return np.asarray( d, dtype=\"uint8\" )\n",
    "\n",
    "def drawlines(img1,img2,lines,pts1,pts2):\n",
    "  ''' img1 - image on which we draw the epilines for the points in img2\n",
    "      lines - corresponding epilines '''\n",
    "  print (img1.shape)\n",
    "  r,c, ch = img1.shape\n",
    "  clr1 = cv2.pyrDown(cv2.imread('dog.jpg', 0))\n",
    "  clr2 = cv2.pyrDown(cv2.imread('dog.jpg', 0))\n",
    "  for r,pt1,pt2 in zip(lines,pts1,pts2):\n",
    "      color = tuple(np.random.randint(0,255,3).tolist())\n",
    "      x0,y0 = map(int, [0, -r[2]/r[1] ])\n",
    "      x1,y1 = map(int, [c, -(r[2]+r[0]*c)/r[1] ])\n",
    "      clr1 = cv2.line(clr1, (x0,y0), (x1,y1), color,1)\n",
    "      clr1 = cv2.circle(clr1,tuple(pt1),5,color,-1)\n",
    "      clr2 = cv2.circle(clr2,tuple(pt2),5,color,-1)\n",
    "      return clr1, clr2\n",
    "\n",
    "img1 = to_uint8(cv2.pyrDown(cv2.imread('dog.jpg', cv2.COLOR_BGR2GRAY)))  #queryimage # left image\n",
    "img2 = to_uint8(cv2.pyrDown(cv2.imread('dog.jpg', cv2.COLOR_BGR2GRAY))) #trainimage # right image\n",
    "\n",
    "sift = cv2.xfeatures2d.SIFT_create()\n",
    " \n",
    "# find the keypoints and descriptors with SIFT\n",
    "kp1, des1 = sift.detectAndCompute(img1,None)\n",
    "kp2, des2 = sift.detectAndCompute(img2,None)\n",
    "\n",
    "# FLANN parameters\n",
    "FLANN_INDEX_KDTREE = 0\n",
    "index_params = dict(algorithm = FLANN_INDEX_KDTREE, trees = 5)\n",
    "search_params = dict(checks=50)\n",
    " \n",
    "flann = cv2.FlannBasedMatcher(index_params,search_params)\n",
    "matches = flann.knnMatch(des1,des2,k=2)\n",
    " \n",
    "good = []\n",
    "pts1 = []\n",
    "pts2 = []\n",
    " \n",
    "# ratio test as per Lowe's paper\n",
    "for i,(m,n) in enumerate(matches):\n",
    "    if m.distance < 0.8*n.distance:\n",
    "        good.append(m)\n",
    "        pts2.append(kp2[m.trainIdx].pt)\n",
    "        pts1.append(kp1[m.queryIdx].pt)\n",
    "\n",
    "pts1 = np.int32(pts1)\n",
    "pts2 = np.int32(pts2)\n",
    "F, mask = cv2.findFundamentalMat(pts1,pts2,cv2.FM_LMEDS)\n",
    " \n",
    "# We select only inlier points\n",
    "pts1 = pts1[mask.ravel()==1]\n",
    "pts2 = pts2[mask.ravel()==1]\n",
    "\n",
    "# Find epilines corresponding to points in right image (second image) and\n",
    "# drawing its lines on left image\n",
    "lines1 = cv2.computeCorrespondEpilines(pts2.reshape(-1,1,2), 2,F)\n",
    "lines1 = lines1.reshape(-1,3)\n",
    "img5,img6 = drawlines(img1,img2,lines1,pts1,pts2)\n",
    "\n",
    "# Find epilines corresponding to points in left image (first image) and\n",
    "# drawing its lines on right image\n",
    "lines2 = cv2.computeCorrespondEpilines(pts1.reshape(-1,1,2), 1,F)\n",
    "lines2 = lines2.reshape(-1,3)\n",
    "img3,img4 = drawlines(img2,img1,lines2,pts2,pts1)\n",
    "\n",
    "plt.subplot(121),plt.imshow(img5)\n",
    "plt.subplot(122),plt.imshow(img3)\n",
    "plt.show()"
   ]
  },
  {
   "cell_type": "markdown",
   "metadata": {},
   "source": [
    "#### Object segmentation using the Watershed and GrabCut algorithms"
   ]
  },
  {
   "cell_type": "code",
   "execution_count": null,
   "metadata": {},
   "outputs": [],
   "source": [
    "import numpy as np\n",
    "import cv2\n",
    "from matplotlib import pyplot as plt\n",
    "\n",
    "img = cv2.imread('dog.jpg')\n",
    "mask = np.zeros(img.shape[:2],np.uint8)\n",
    "\n",
    "bgdModel = np.zeros((1,65),np.float64)\n",
    "fgdModel = np.zeros((1,65),np.float64)\n",
    "\n",
    "rect = (0,250,2422,1920)\n",
    "cv2.grabCut(img,mask,rect,bgdModel,fgdModel,5,cv2.GC_INIT_WITH_RECT)\n",
    "\n",
    "mask2 = np.where((mask==2)|(mask==0),0,1).astype('uint8')\n",
    "img = img*mask2[:,:,np.newaxis]\n",
    "\n",
    "plt.imshow(img, cmap = \"gray\"),plt.colorbar(),plt.show()"
   ]
  },
  {
   "cell_type": "code",
   "execution_count": null,
   "metadata": {},
   "outputs": [],
   "source": []
  },
  {
   "cell_type": "code",
   "execution_count": null,
   "metadata": {},
   "outputs": [
    {
     "ename": "",
     "evalue": "",
     "output_type": "error",
     "traceback": [
      "\u001b[1;31mThe Kernel crashed while executing code in the the current cell or a previous cell. Please review the code in the cell(s) to identify a possible cause of the failure. Click <a href='https://aka.ms/vscodeJupyterKernelCrash'>here</a> for more info. View Jupyter <a href='command:jupyter.viewOutput'>log</a> for further details."
     ]
    }
   ],
   "source": []
  },
  {
   "cell_type": "code",
   "execution_count": null,
   "metadata": {},
   "outputs": [],
   "source": []
  },
  {
   "cell_type": "code",
   "execution_count": null,
   "metadata": {},
   "outputs": [],
   "source": []
  },
  {
   "cell_type": "code",
   "execution_count": null,
   "metadata": {},
   "outputs": [],
   "source": []
  }
 ],
 "metadata": {
  "kernelspec": {
   "display_name": "base",
   "language": "python",
   "name": "python3"
  },
  "language_info": {
   "codemirror_mode": {
    "name": "ipython",
    "version": 3
   },
   "file_extension": ".py",
   "mimetype": "text/x-python",
   "name": "python",
   "nbconvert_exporter": "python",
   "pygments_lexer": "ipython3",
   "version": "3.9.16"
  }
 },
 "nbformat": 4,
 "nbformat_minor": 2
}
