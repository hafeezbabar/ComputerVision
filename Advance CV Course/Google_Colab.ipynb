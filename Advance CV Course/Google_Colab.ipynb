{
  "nbformat": 4,
  "nbformat_minor": 0,
  "metadata": {
    "colab": {
      "provenance": [],
      "gpuType": "T4"
    },
    "kernelspec": {
      "name": "python3",
      "display_name": "Python 3"
    },
    "language_info": {
      "name": "python"
    },
    "accelerator": "GPU"
  },
  "cells": [
    {
      "cell_type": "markdown",
      "source": [
        "### Below cell code connects the google drive to google colab"
      ],
      "metadata": {
        "id": "4f2-nBK7YzO6"
      }
    },
    {
      "cell_type": "code",
      "execution_count": 2,
      "metadata": {
        "colab": {
          "base_uri": "https://localhost:8080/"
        },
        "id": "reTxIzAMU182",
        "outputId": "fd85c341-1df8-4ca1-83c5-cde75382519c"
      },
      "outputs": [
        {
          "output_type": "stream",
          "name": "stdout",
          "text": [
            "Drive already mounted at /content/drive; to attempt to forcibly remount, call drive.mount(\"/content/drive\", force_remount=True).\n"
          ]
        }
      ],
      "source": [
        "from google.colab import drive\n",
        "drive.mount('/content/drive')"
      ]
    },
    {
      "cell_type": "code",
      "source": [
        "# This display the connected google drive folders\n",
        "!ls /content/drive/MyDrive"
      ],
      "metadata": {
        "id": "8huZd8UAYuaj"
      },
      "execution_count": null,
      "outputs": []
    },
    {
      "cell_type": "markdown",
      "source": [
        "### Import the Libraries"
      ],
      "metadata": {
        "id": "1f7twGSCZ0dU"
      }
    },
    {
      "cell_type": "code",
      "source": [
        "# Imoprted the basic libraries\n",
        "import torchvision\n",
        "import torch.nn as nn\n",
        "import torch\n",
        "import torch.nn.functional as F\n",
        "import torchvision.transforms as transforms\n",
        "import matplotlib.pyplot as plt\n",
        "import pandas as pd\n",
        "import numpy as np\n",
        "import random\n",
        "from scipy.spatial.distance import cdist"
      ],
      "metadata": {
        "id": "_xXU3QsBZJEw"
      },
      "execution_count": 6,
      "outputs": []
    },
    {
      "cell_type": "code",
      "source": [],
      "metadata": {
        "id": "jjodAgeCZvYg"
      },
      "execution_count": null,
      "outputs": []
    }
  ]
}