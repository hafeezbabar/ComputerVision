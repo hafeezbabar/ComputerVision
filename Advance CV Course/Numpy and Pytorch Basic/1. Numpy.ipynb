{
  "nbformat": 4,
  "nbformat_minor": 0,
  "metadata": {
    "colab": {
      "provenance": []
    },
    "kernelspec": {
      "name": "python3",
      "display_name": "Python 3"
    },
    "language_info": {
      "name": "python"
    }
  },
  "cells": [
    {
      "cell_type": "markdown",
      "source": [
        "### Import numpy library\n",
        " - Fundamental package for scientific computing with Python\n",
        " - NumPy library is the core library for scientif computing in Python. It provides High Multidimensional array object, and tools for working these array."
      ],
      "metadata": {
        "id": "niXRsH7_adIj"
      }
    },
    {
      "cell_type": "code",
      "source": [
        "import numpy as np"
      ],
      "metadata": {
        "id": "rZrXCdEoafns"
      },
      "execution_count": 30,
      "outputs": []
    },
    {
      "cell_type": "markdown",
      "source": [
        "Array of Vectors"
      ],
      "metadata": {
        "id": "YX5rgG8mbtt6"
      }
    },
    {
      "cell_type": "code",
      "source": [
        "array1 = np.array([1,2,3])\n",
        "array2 = np.array([(1.5, 2, 3), (4,5, 6)], dtype = float)\n",
        "array3 = np.array([[(1.5,2,3), (4,5,6)], [(3,2,1), (4,5,6)]], dtype = float)\n",
        "print(array1.shape, array2.shape, array3.shape)\n",
        "np.array([[1,2,3]]).shape"
      ],
      "metadata": {
        "colab": {
          "base_uri": "https://localhost:8080/"
        },
        "id": "jlbVxkF7bwpn",
        "outputId": "f778854e-435b-4e72-dbbe-27458c32bd41"
      },
      "execution_count": 31,
      "outputs": [
        {
          "output_type": "stream",
          "name": "stdout",
          "text": [
            "(3,) (2, 3) (2, 2, 3)\n"
          ]
        },
        {
          "output_type": "execute_result",
          "data": {
            "text/plain": [
              "(1, 3)"
            ]
          },
          "metadata": {},
          "execution_count": 31
        }
      ]
    },
    {
      "cell_type": "markdown",
      "source": [
        "Matrix Multiplication : Array Multiplication"
      ],
      "metadata": {
        "id": "TSliHbuyc25_"
      }
    },
    {
      "cell_type": "code",
      "source": [
        "array5 = np.random.randn(2,3)  # Generate an array of 2 rows and 3 columns by random function\n",
        "array6 = np.random.rand(3,2)  # Generate an array of 3 rows and 2 columns by random function\n",
        "np.matmul(array5, array6).shape # show the shape after multiplication\n",
        "np.matmul(array5, array6)  # show the multiplied result"
      ],
      "metadata": {
        "colab": {
          "base_uri": "https://localhost:8080/"
        },
        "id": "X8VDA5Guc60H",
        "outputId": "a9c2b51c-476b-4cf2-a9b5-b5a35a1decd9"
      },
      "execution_count": 32,
      "outputs": [
        {
          "output_type": "execute_result",
          "data": {
            "text/plain": [
              "array([[0.83284132, 1.09491612],\n",
              "       [0.83419817, 0.92931442]])"
            ]
          },
          "metadata": {},
          "execution_count": 32
        }
      ]
    },
    {
      "cell_type": "markdown",
      "source": [
        "DOT Product between arrays\n",
        "\n",
        " \\begin{align}\n",
        "\\mathbf{a} \\cdot \\mathbf{b} = \\sum_{i=1}^n a_i b_i.\n",
        "\\end{align}    \n"
      ],
      "metadata": {
        "id": "pP4AoDWedrXl"
      }
    },
    {
      "cell_type": "code",
      "source": [
        "value1 = np.random.randint(low=1, high =5, size = (1,3))\n",
        "value2 = np.random.randint(low=1, high =5, size = (1,3))\n",
        "print(value1)\n",
        "print(value2)\n",
        "np.dot(value1, value2.T) # T represent the transpose of a matrix"
      ],
      "metadata": {
        "colab": {
          "base_uri": "https://localhost:8080/"
        },
        "id": "lpVuPhSRdug_",
        "outputId": "bb84dc7f-5ec7-4d7f-de9f-771e4bf92fc2"
      },
      "execution_count": 33,
      "outputs": [
        {
          "output_type": "stream",
          "name": "stdout",
          "text": [
            "[[3 3 1]]\n",
            "[[4 3 4]]\n"
          ]
        },
        {
          "output_type": "execute_result",
          "data": {
            "text/plain": [
              "array([[25]])"
            ]
          },
          "metadata": {},
          "execution_count": 33
        }
      ]
    },
    {
      "cell_type": "markdown",
      "source": [
        "### linalg *Norm*"
      ],
      "metadata": {
        "id": "JEanWulEeqpC"
      }
    },
    {
      "cell_type": "code",
      "source": [
        "np.linalg.norm(value1) # This show the normalization of value1 Array"
      ],
      "metadata": {
        "colab": {
          "base_uri": "https://localhost:8080/"
        },
        "id": "rmWrCVDNevX3",
        "outputId": "3cc119a5-c974-4a1f-fbc6-84a93a351037"
      },
      "execution_count": 34,
      "outputs": [
        {
          "output_type": "execute_result",
          "data": {
            "text/plain": [
              "4.358898943540674"
            ]
          },
          "metadata": {},
          "execution_count": 34
        }
      ]
    },
    {
      "cell_type": "markdown",
      "source": [
        "### Normalize the vector to unit form"
      ],
      "metadata": {
        "id": "V4T3WPNvfA4n"
      }
    },
    {
      "cell_type": "code",
      "source": [
        "value1_normalized  = value1/np.linalg.norm(value1)\n",
        "value1_normalized"
      ],
      "metadata": {
        "colab": {
          "base_uri": "https://localhost:8080/"
        },
        "id": "ytyPhZEZfECz",
        "outputId": "11610036-ac54-4a9e-a141-e2bec67d03dc"
      },
      "execution_count": 35,
      "outputs": [
        {
          "output_type": "execute_result",
          "data": {
            "text/plain": [
              "array([[0.6882472 , 0.6882472 , 0.22941573]])"
            ]
          },
          "metadata": {},
          "execution_count": 35
        }
      ]
    },
    {
      "cell_type": "code",
      "source": [
        "np.sum(np.power(value1_normalized,2))"
      ],
      "metadata": {
        "colab": {
          "base_uri": "https://localhost:8080/"
        },
        "id": "bxraGHTkfSXr",
        "outputId": "26c76fd2-fbc2-4eb9-a074-00c167563004"
      },
      "execution_count": 36,
      "outputs": [
        {
          "output_type": "execute_result",
          "data": {
            "text/plain": [
              "0.9999999999999996"
            ]
          },
          "metadata": {},
          "execution_count": 36
        }
      ]
    },
    {
      "cell_type": "markdown",
      "source": [
        "### cosine Similarity\n",
        "\\begin{align}\n",
        "\\frac{u \\cdot v}\n",
        "                   {{||u||}_2 {||v||}_2}\n",
        "\\end{align}"
      ],
      "metadata": {
        "id": "PnjHNeYZfhOK"
      }
    },
    {
      "cell_type": "code",
      "source": [
        "# install the library for cosine similarity\n",
        "!pip install scipy   # pip commmand help to install required libraries"
      ],
      "metadata": {
        "colab": {
          "base_uri": "https://localhost:8080/"
        },
        "id": "uUwuk_LUfi-d",
        "outputId": "ad6bd322-8c1b-40f5-b2e9-5bd334925945"
      },
      "execution_count": 37,
      "outputs": [
        {
          "output_type": "stream",
          "name": "stdout",
          "text": [
            "Requirement already satisfied: scipy in /usr/local/lib/python3.10/dist-packages (1.11.2)\n",
            "Requirement already satisfied: numpy<1.28.0,>=1.21.6 in /usr/local/lib/python3.10/dist-packages (from scipy) (1.23.5)\n"
          ]
        }
      ]
    },
    {
      "cell_type": "code",
      "source": [],
      "metadata": {
        "id": "_mMWHIDafuMw"
      },
      "execution_count": 37,
      "outputs": []
    },
    {
      "cell_type": "markdown",
      "source": [
        "### cosine Dissimilarities\n",
        "\\begin{align}\n",
        "1 - \\frac{u \\cdot v}\n",
        "                   {{||u||}_2 {||v||}_2}\n",
        "\\end{align}"
      ],
      "metadata": {
        "id": "h6AtA8Lef9mR"
      }
    },
    {
      "cell_type": "code",
      "source": [
        "from scipy.spatial.distance import cdist\n",
        "x = np.random.rand(1, 3)\n",
        "y = np.random.rand(1,3)\n",
        "x_normalized = x/np.linalg.norm(x)\n",
        "y_normalized = y / np.linalg.norm(y)\n"
      ],
      "metadata": {
        "id": "aJsslwkAgCaI"
      },
      "execution_count": 38,
      "outputs": []
    },
    {
      "cell_type": "code",
      "source": [
        "np.sum(np.power(y_normalized,2))\n",
        "np.sum(np.power(x_normalized,2))"
      ],
      "metadata": {
        "colab": {
          "base_uri": "https://localhost:8080/"
        },
        "id": "krk_EpmggV0f",
        "outputId": "85229b7a-af1e-4524-87e2-f2795f95819c"
      },
      "execution_count": 39,
      "outputs": [
        {
          "output_type": "execute_result",
          "data": {
            "text/plain": [
              "0.9999999999999998"
            ]
          },
          "metadata": {},
          "execution_count": 39
        }
      ]
    },
    {
      "cell_type": "code",
      "source": [
        "np.dot(x_normalized, y_normalized.T)"
      ],
      "metadata": {
        "colab": {
          "base_uri": "https://localhost:8080/"
        },
        "id": "Nu6E8v3MgfD1",
        "outputId": "263cd002-9d2f-40c9-e63c-9c601f044dc7"
      },
      "execution_count": 40,
      "outputs": [
        {
          "output_type": "execute_result",
          "data": {
            "text/plain": [
              "array([[0.67844111]])"
            ]
          },
          "metadata": {},
          "execution_count": 40
        }
      ]
    },
    {
      "cell_type": "code",
      "source": [
        "cos_dissimilarity = cdist(x_normalized, y_normalized, metric =  'cosine')\n",
        "cos_dissimilarity = 1 - cos_dissimilarity\n",
        "cos_dissimilarity"
      ],
      "metadata": {
        "colab": {
          "base_uri": "https://localhost:8080/"
        },
        "id": "9C4THoCzgl96",
        "outputId": "28263859-9ac0-4617-d5e1-d94fa9ef6884"
      },
      "execution_count": 41,
      "outputs": [
        {
          "output_type": "execute_result",
          "data": {
            "text/plain": [
              "array([[0.67844111]])"
            ]
          },
          "metadata": {},
          "execution_count": 41
        }
      ]
    },
    {
      "cell_type": "code",
      "source": [],
      "metadata": {
        "id": "952dsbXig2b9"
      },
      "execution_count": 41,
      "outputs": []
    },
    {
      "cell_type": "markdown",
      "source": [
        "### Euclidean Dissimilarity\n",
        "\\begin{align}\n",
        "   {||u-v||}_2 = (\\sum{|u_i - v_i|^2})^{1/2}\n",
        "\\end{align}"
      ],
      "metadata": {
        "id": "bpM7eUfXg5uA"
      }
    },
    {
      "cell_type": "code",
      "source": [
        "cdist(x_normalized, y_normalized, metric = 'euclidean')"
      ],
      "metadata": {
        "colab": {
          "base_uri": "https://localhost:8080/"
        },
        "id": "WUflreZHhAnx",
        "outputId": "270851fc-dcc0-4794-f6ec-7d561efbe45a"
      },
      "execution_count": 42,
      "outputs": [
        {
          "output_type": "execute_result",
          "data": {
            "text/plain": [
              "array([[0.80194625]])"
            ]
          },
          "metadata": {},
          "execution_count": 42
        }
      ]
    },
    {
      "cell_type": "code",
      "source": [
        "np.sqrt(np.sum(np.power(np.abs(x_normalized - y_normalized), 2)))"
      ],
      "metadata": {
        "colab": {
          "base_uri": "https://localhost:8080/"
        },
        "id": "yF-QXeuRhLQX",
        "outputId": "bec8353a-232c-46b2-f175-3c3ac88667e7"
      },
      "execution_count": 43,
      "outputs": [
        {
          "output_type": "execute_result",
          "data": {
            "text/plain": [
              "0.8019462486081907"
            ]
          },
          "metadata": {},
          "execution_count": 43
        }
      ]
    },
    {
      "cell_type": "markdown",
      "source": [
        "### Concatentate Vectors"
      ],
      "metadata": {
        "id": "dC-k-4nzhcgK"
      }
    },
    {
      "cell_type": "code",
      "source": [
        "x = np.random.randint(low = 1, high = 4, size = (1,3))\n",
        "y = np.random.randint(low = 1, high = 4, size = (1,3))\n",
        "x,y"
      ],
      "metadata": {
        "colab": {
          "base_uri": "https://localhost:8080/"
        },
        "id": "ubsNRJUUheN6",
        "outputId": "50fbe6a0-5e30-42cf-a93e-559a0f5c71d2"
      },
      "execution_count": 44,
      "outputs": [
        {
          "output_type": "execute_result",
          "data": {
            "text/plain": [
              "(array([[2, 2, 2]]), array([[1, 1, 1]]))"
            ]
          },
          "metadata": {},
          "execution_count": 44
        }
      ]
    },
    {
      "cell_type": "code",
      "source": [
        "np.concatenate((x,y), axis = 0)  # concatenate x and y via x-axis (x=0)"
      ],
      "metadata": {
        "colab": {
          "base_uri": "https://localhost:8080/"
        },
        "id": "SRN7hXLQhp8a",
        "outputId": "e6f7f10a-a097-451c-cf9b-9e5c7c71d13f"
      },
      "execution_count": 47,
      "outputs": [
        {
          "output_type": "execute_result",
          "data": {
            "text/plain": [
              "array([[2, 2, 2],\n",
              "       [1, 1, 1]])"
            ]
          },
          "metadata": {},
          "execution_count": 47
        }
      ]
    },
    {
      "cell_type": "code",
      "source": [
        "np.vstack((x,y))  # Vertical Stacking"
      ],
      "metadata": {
        "colab": {
          "base_uri": "https://localhost:8080/"
        },
        "id": "YEVN32behyn-",
        "outputId": "7b489ed7-a051-4ce8-d0d6-ddcc394c6e00"
      },
      "execution_count": 48,
      "outputs": [
        {
          "output_type": "execute_result",
          "data": {
            "text/plain": [
              "array([[2, 2, 2],\n",
              "       [1, 1, 1]])"
            ]
          },
          "metadata": {},
          "execution_count": 48
        }
      ]
    },
    {
      "cell_type": "code",
      "source": [
        "np.hstack((x,y))  # Horizontal Stacking"
      ],
      "metadata": {
        "colab": {
          "base_uri": "https://localhost:8080/"
        },
        "id": "oVcCrZmNmOa2",
        "outputId": "01d77b53-04d9-4033-a5d0-e29df3ec3d96"
      },
      "execution_count": 50,
      "outputs": [
        {
          "output_type": "execute_result",
          "data": {
            "text/plain": [
              "array([[2, 2, 2, 1, 1, 1]])"
            ]
          },
          "metadata": {},
          "execution_count": 50
        }
      ]
    },
    {
      "cell_type": "markdown",
      "source": [
        "### Element Wise Multiplication"
      ],
      "metadata": {
        "id": "p9oWbzDZmjGq"
      }
    },
    {
      "cell_type": "code",
      "source": [
        "x = np.random.randint(low = 1, high = 4, size = (2,2))\n",
        "y = np.random.randint(low = 1, high = 4, size = (2,2))\n",
        "print(x)\n",
        "print(y)"
      ],
      "metadata": {
        "colab": {
          "base_uri": "https://localhost:8080/"
        },
        "id": "LkdB04Jimls6",
        "outputId": "599b9603-6f0c-494a-b10c-568b0018c20d"
      },
      "execution_count": 51,
      "outputs": [
        {
          "output_type": "stream",
          "name": "stdout",
          "text": [
            "[[3 1]\n",
            " [2 1]]\n",
            "[[2 3]\n",
            " [2 1]]\n"
          ]
        }
      ]
    },
    {
      "cell_type": "code",
      "source": [
        "np.multiply(x,y)"
      ],
      "metadata": {
        "colab": {
          "base_uri": "https://localhost:8080/"
        },
        "id": "gymbL9Z_mx9e",
        "outputId": "cd292cc6-8398-4828-a9d3-05478eb5e063"
      },
      "execution_count": 52,
      "outputs": [
        {
          "output_type": "execute_result",
          "data": {
            "text/plain": [
              "array([[6, 3],\n",
              "       [4, 1]])"
            ]
          },
          "metadata": {},
          "execution_count": 52
        }
      ]
    },
    {
      "cell_type": "code",
      "source": [],
      "metadata": {
        "id": "xIp0RRKRm1v8"
      },
      "execution_count": null,
      "outputs": []
    },
    {
      "cell_type": "markdown",
      "source": [
        "### Transpose of a Matrix"
      ],
      "metadata": {
        "id": "jJQihTKSm4tu"
      }
    },
    {
      "cell_type": "code",
      "source": [
        "x = np.random.randint(low = 1, high = 4, size = (1,3))\n",
        "print(x, x.T)\n",
        "print(x.shape, x.T.shape)  # T represents Transpose"
      ],
      "metadata": {
        "colab": {
          "base_uri": "https://localhost:8080/"
        },
        "id": "Bu8dvaJwm7Vv",
        "outputId": "8808c4da-4b64-4e3c-cdaa-74f1d93345a5"
      },
      "execution_count": 54,
      "outputs": [
        {
          "output_type": "stream",
          "name": "stdout",
          "text": [
            "[[3 2 1]] [[3]\n",
            " [2]\n",
            " [1]]\n",
            "(1, 3) (3, 1)\n"
          ]
        }
      ]
    },
    {
      "cell_type": "code",
      "source": [
        "y = np.random.randint(low = 1, high = 4, size=(2,3))\n",
        "print('shape = {} \\n {} \\n\\n shape = = {} \\n {}'.format(y.shape, y, y.T.shape, y.T))  # Represent the above same out using String formatting."
      ],
      "metadata": {
        "colab": {
          "base_uri": "https://localhost:8080/"
        },
        "id": "pjRxsZSFnEtk",
        "outputId": "a60422ca-9a76-4e53-cb76-94db770398ae"
      },
      "execution_count": 58,
      "outputs": [
        {
          "output_type": "stream",
          "name": "stdout",
          "text": [
            "shape = (2, 3) \n",
            " [[1 3 3]\n",
            " [1 2 2]] \n",
            "\n",
            " shape = = (3, 2) \n",
            " [[1 1]\n",
            " [3 2]\n",
            " [3 2]]\n"
          ]
        }
      ]
    },
    {
      "cell_type": "code",
      "source": [],
      "metadata": {
        "id": "joGj2PSanibg"
      },
      "execution_count": null,
      "outputs": []
    },
    {
      "cell_type": "markdown",
      "source": [
        "### Sequeeze\n",
        " - Reomve one dimensional entries from the shape of an array"
      ],
      "metadata": {
        "id": "sKMZyo-0n19y"
      }
    },
    {
      "cell_type": "code",
      "source": [
        "arr = np.array([[[0], [1], [2]]])\n",
        "print(arr, arr.shape)\n",
        "print(np.squeeze(arr))\n",
        "np.squeeze((arr).shape)\n",
        "print(np.squeeze(arr, axis = 0), np.squeeze(arr, axis = 0).shape)\n",
        "#print(np.squeeze(arr, axis = 1).shape)"
      ],
      "metadata": {
        "colab": {
          "base_uri": "https://localhost:8080/"
        },
        "id": "OT0vnZ8bn3XM",
        "outputId": "c6539e8c-5daf-43bf-ae27-a0170b393e6b"
      },
      "execution_count": 63,
      "outputs": [
        {
          "output_type": "stream",
          "name": "stdout",
          "text": [
            "[[[0]\n",
            "  [1]\n",
            "  [2]]] (1, 3, 1)\n",
            "[0 1 2]\n",
            "[[0]\n",
            " [1]\n",
            " [2]] (3, 1)\n"
          ]
        }
      ]
    },
    {
      "cell_type": "markdown",
      "source": [
        "## REPEAT"
      ],
      "metadata": {
        "id": "QzPL2NrepImt"
      }
    },
    {
      "cell_type": "code",
      "source": [
        "print(np.repeat(3,4))\n",
        "arr = np.array([[1,2], [3,4]])\n",
        "print(x)\n",
        "print(np.repeat(x,2))\n",
        "print(np.repeat(x,3, axis = 1))\n",
        "np.repeat(x,3 , axis = 0)"
      ],
      "metadata": {
        "colab": {
          "base_uri": "https://localhost:8080/"
        },
        "id": "KDMtbYtUpJjj",
        "outputId": "b1360901-058b-4383-dc0c-e7042bbeeaea"
      },
      "execution_count": 64,
      "outputs": [
        {
          "output_type": "stream",
          "name": "stdout",
          "text": [
            "[3 3 3 3]\n",
            "[[3 2 1]]\n",
            "[3 3 2 2 1 1]\n",
            "[[3 3 3 2 2 2 1 1 1]]\n"
          ]
        },
        {
          "output_type": "execute_result",
          "data": {
            "text/plain": [
              "array([[3, 2, 1],\n",
              "       [3, 2, 1],\n",
              "       [3, 2, 1]])"
            ]
          },
          "metadata": {},
          "execution_count": 64
        }
      ]
    },
    {
      "cell_type": "code",
      "source": [],
      "metadata": {
        "id": "Ro5nc8-opaYE"
      },
      "execution_count": null,
      "outputs": []
    }
  ]
}